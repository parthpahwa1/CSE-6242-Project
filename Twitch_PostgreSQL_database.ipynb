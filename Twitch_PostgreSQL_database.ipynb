{
 "cells": [
  {
   "cell_type": "markdown",
   "metadata": {},
   "source": [
    "# Twitch PostgreSQL database"
   ]
  },
  {
   "cell_type": "markdown",
   "metadata": {},
   "source": [
    "### PostgreSQL connection"
   ]
  },
  {
   "cell_type": "markdown",
   "metadata": {},
   "source": [
    "Based on https://naysan.ca/2020/05/31/postgresql-to-pandas/"
   ]
  },
  {
   "cell_type": "code",
   "execution_count": 1,
   "metadata": {},
   "outputs": [],
   "source": [
    "# Librairies\n",
    "import psycopg2\n",
    "import pandas as pd\n",
    "import sys"
   ]
  },
  {
   "cell_type": "code",
   "execution_count": 2,
   "metadata": {},
   "outputs": [],
   "source": [
    "# Connection parameters to login\n",
    "co_param = {\n",
    "    \"host\"      : \"twitch.caampywfg0rz.us-east-1.rds.amazonaws.com\",\n",
    "    \"database\"  : \"Twitch\",\n",
    "    \"user\"      : \"GaTech_team_96\",\n",
    "    \"password\"  : \"i-love-my-coffee-without-milk-and-sugar-at-800AM\"\n",
    "}"
   ]
  },
  {
   "cell_type": "code",
   "execution_count": 3,
   "metadata": {},
   "outputs": [],
   "source": [
    "def connect(co_param):\n",
    "    \"\"\"\n",
    "    Connect to the PostgreSQL database server\n",
    "    \"\"\"\n",
    "    conn = None\n",
    "    try:\n",
    "        # connect to the PostgreSQL server\n",
    "        print('Connecting to the PostgreSQL database...')\n",
    "        conn = psycopg2.connect(**co_param)\n",
    "    except (Exception, psycopg2.DatabaseError) as error:\n",
    "        print(error)\n",
    "        sys.exit(1) \n",
    "    print(\"Connection successful\")\n",
    "    return conn"
   ]
  },
  {
   "cell_type": "code",
   "execution_count": 4,
   "metadata": {},
   "outputs": [],
   "source": [
    "def postgresql_to_dataframe(conn, select_query, column_names):\n",
    "    \"\"\"\n",
    "    Tranform a SELECT query into a pandas dataframe\n",
    "    \"\"\"\n",
    "    cursor = conn.cursor()\n",
    "    try:\n",
    "        cursor.execute(select_query)\n",
    "    except (Exception, psycopg2.DatabaseError) as error:\n",
    "        print(\"Error: %s\" % error)\n",
    "        cursor.close()\n",
    "        return 1\n",
    "    \n",
    "    # Naturally we get a list of tupples\n",
    "    tupples = cursor.fetchall()\n",
    "    cursor.close()\n",
    "    \n",
    "    # We just need to turn it into a pandas dataframe\n",
    "    df = pd.DataFrame(tupples, columns=column_names)\n",
    "    return df"
   ]
  },
  {
   "cell_type": "markdown",
   "metadata": {},
   "source": [
    "### stream_data database"
   ]
  },
  {
   "cell_type": "code",
   "execution_count": 5,
   "metadata": {},
   "outputs": [
    {
     "name": "stdout",
     "output_type": "stream",
     "text": [
      "Connecting to the PostgreSQL database...\n",
      "Connection successful\n"
     ]
    },
    {
     "data": {
      "text/html": [
       "<div>\n",
       "<style scoped>\n",
       "    .dataframe tbody tr th:only-of-type {\n",
       "        vertical-align: middle;\n",
       "    }\n",
       "\n",
       "    .dataframe tbody tr th {\n",
       "        vertical-align: top;\n",
       "    }\n",
       "\n",
       "    .dataframe thead th {\n",
       "        text-align: right;\n",
       "    }\n",
       "</style>\n",
       "<table border=\"1\" class=\"dataframe\">\n",
       "  <thead>\n",
       "    <tr style=\"text-align: right;\">\n",
       "      <th></th>\n",
       "      <th>game_id</th>\n",
       "      <th>stream_id</th>\n",
       "      <th>language</th>\n",
       "      <th>started_at</th>\n",
       "      <th>title</th>\n",
       "      <th>stream_type</th>\n",
       "      <th>user_id</th>\n",
       "      <th>user_name</th>\n",
       "      <th>viewer_count</th>\n",
       "      <th>user_login</th>\n",
       "      <th>game_name</th>\n",
       "      <th>thumbnail_url</th>\n",
       "      <th>tag_ids</th>\n",
       "      <th>is_mature</th>\n",
       "      <th>time_logged</th>\n",
       "    </tr>\n",
       "  </thead>\n",
       "  <tbody>\n",
       "    <tr>\n",
       "      <th>0</th>\n",
       "      <td>493597</td>\n",
       "      <td>40463396137</td>\n",
       "      <td>pt</td>\n",
       "      <td>2022-11-08T17:18:43Z</td>\n",
       "      <td>[!DROP TIER 1] SUB GRATUITO !GRATIS - !KEY !FR...</td>\n",
       "      <td>live</td>\n",
       "      <td>134233365</td>\n",
       "      <td>Finger</td>\n",
       "      <td>267</td>\n",
       "      <td>finger</td>\n",
       "      <td>New World</td>\n",
       "      <td>https://static-cdn.jtvnw.net/previews-ttv/live...</td>\n",
       "      <td>{39ee8140-901a-4762-bfca-8260dea1310f,c2542d6d...</td>\n",
       "      <td>True</td>\n",
       "      <td>2022-11-09 12:24:55</td>\n",
       "    </tr>\n",
       "    <tr>\n",
       "      <th>1</th>\n",
       "      <td>493597</td>\n",
       "      <td>40052399384</td>\n",
       "      <td>de</td>\n",
       "      <td>2022-11-09T10:53:42Z</td>\n",
       "      <td>[Knights of The Coconut | Marauder] Drops (2/4...</td>\n",
       "      <td>live</td>\n",
       "      <td>41945115</td>\n",
       "      <td>GippiGaming</td>\n",
       "      <td>266</td>\n",
       "      <td>gippigaming</td>\n",
       "      <td>New World</td>\n",
       "      <td>https://static-cdn.jtvnw.net/previews-ttv/live...</td>\n",
       "      <td>{9166ad14-41f1-4b04-a3b8-c8eb838c6be6,c2542d6d...</td>\n",
       "      <td>False</td>\n",
       "      <td>2022-11-09 12:24:55</td>\n",
       "    </tr>\n",
       "    <tr>\n",
       "      <th>2</th>\n",
       "      <td>493597</td>\n",
       "      <td>40052332488</td>\n",
       "      <td>ru</td>\n",
       "      <td>2022-11-09T10:19:35Z</td>\n",
       "      <td>🔴ВРЫВАЕМСЯ НА ФРЕШ СЕРВЕРА! !DROPS Сервер Imho...</td>\n",
       "      <td>live</td>\n",
       "      <td>41237871</td>\n",
       "      <td>SirDaveJones</td>\n",
       "      <td>199</td>\n",
       "      <td>sirdavejones</td>\n",
       "      <td>New World</td>\n",
       "      <td>https://static-cdn.jtvnw.net/previews-ttv/live...</td>\n",
       "      <td>{0569b171-2a2b-476e-a596-5bdfb45a1327,c2542d6d...</td>\n",
       "      <td>False</td>\n",
       "      <td>2022-11-09 12:24:55</td>\n",
       "    </tr>\n",
       "    <tr>\n",
       "      <th>3</th>\n",
       "      <td>493597</td>\n",
       "      <td>46278433612</td>\n",
       "      <td>es</td>\n",
       "      <td>2022-11-09T07:34:28Z</td>\n",
       "      <td>Buen dia de miercoles</td>\n",
       "      <td>live</td>\n",
       "      <td>40113517</td>\n",
       "      <td>GgSanTomE</td>\n",
       "      <td>190</td>\n",
       "      <td>ggsantome</td>\n",
       "      <td>New World</td>\n",
       "      <td>https://static-cdn.jtvnw.net/previews-ttv/live...</td>\n",
       "      <td>{c2542d6d-cd10-4532-919b-3d19f30a768b,d4bb9c58...</td>\n",
       "      <td>False</td>\n",
       "      <td>2022-11-09 12:24:55</td>\n",
       "    </tr>\n",
       "    <tr>\n",
       "      <th>4</th>\n",
       "      <td>493597</td>\n",
       "      <td>41479709947</td>\n",
       "      <td>en</td>\n",
       "      <td>2022-11-09T08:39:01Z</td>\n",
       "      <td>[DROPS] Hatchet/X PvP | Light Melee | !build !...</td>\n",
       "      <td>live</td>\n",
       "      <td>41556524</td>\n",
       "      <td>TheWhelps</td>\n",
       "      <td>178</td>\n",
       "      <td>thewhelps</td>\n",
       "      <td>New World</td>\n",
       "      <td>https://static-cdn.jtvnw.net/previews-ttv/live...</td>\n",
       "      <td>{6ea6bca4-4712-4ab9-a906-e3336a9d8039,c2542d6d...</td>\n",
       "      <td>False</td>\n",
       "      <td>2022-11-09 12:24:55</td>\n",
       "    </tr>\n",
       "  </tbody>\n",
       "</table>\n",
       "</div>"
      ],
      "text/plain": [
       "  game_id    stream_id language            started_at  \\\n",
       "0  493597  40463396137       pt  2022-11-08T17:18:43Z   \n",
       "1  493597  40052399384       de  2022-11-09T10:53:42Z   \n",
       "2  493597  40052332488       ru  2022-11-09T10:19:35Z   \n",
       "3  493597  46278433612       es  2022-11-09T07:34:28Z   \n",
       "4  493597  41479709947       en  2022-11-09T08:39:01Z   \n",
       "\n",
       "                                               title stream_type    user_id  \\\n",
       "0  [!DROP TIER 1] SUB GRATUITO !GRATIS - !KEY !FR...        live  134233365   \n",
       "1  [Knights of The Coconut | Marauder] Drops (2/4...        live   41945115   \n",
       "2  🔴ВРЫВАЕМСЯ НА ФРЕШ СЕРВЕРА! !DROPS Сервер Imho...        live   41237871   \n",
       "3                              Buen dia de miercoles        live   40113517   \n",
       "4  [DROPS] Hatchet/X PvP | Light Melee | !build !...        live   41556524   \n",
       "\n",
       "      user_name  viewer_count    user_login  game_name  \\\n",
       "0        Finger           267        finger  New World   \n",
       "1   GippiGaming           266   gippigaming  New World   \n",
       "2  SirDaveJones           199  sirdavejones  New World   \n",
       "3     GgSanTomE           190     ggsantome  New World   \n",
       "4     TheWhelps           178     thewhelps  New World   \n",
       "\n",
       "                                       thumbnail_url  \\\n",
       "0  https://static-cdn.jtvnw.net/previews-ttv/live...   \n",
       "1  https://static-cdn.jtvnw.net/previews-ttv/live...   \n",
       "2  https://static-cdn.jtvnw.net/previews-ttv/live...   \n",
       "3  https://static-cdn.jtvnw.net/previews-ttv/live...   \n",
       "4  https://static-cdn.jtvnw.net/previews-ttv/live...   \n",
       "\n",
       "                                             tag_ids  is_mature  \\\n",
       "0  {39ee8140-901a-4762-bfca-8260dea1310f,c2542d6d...       True   \n",
       "1  {9166ad14-41f1-4b04-a3b8-c8eb838c6be6,c2542d6d...      False   \n",
       "2  {0569b171-2a2b-476e-a596-5bdfb45a1327,c2542d6d...      False   \n",
       "3  {c2542d6d-cd10-4532-919b-3d19f30a768b,d4bb9c58...      False   \n",
       "4  {6ea6bca4-4712-4ab9-a906-e3336a9d8039,c2542d6d...      False   \n",
       "\n",
       "           time_logged  \n",
       "0  2022-11-09 12:24:55  \n",
       "1  2022-11-09 12:24:55  \n",
       "2  2022-11-09 12:24:55  \n",
       "3  2022-11-09 12:24:55  \n",
       "4  2022-11-09 12:24:55  "
      ]
     },
     "execution_count": 5,
     "metadata": {},
     "output_type": "execute_result"
    }
   ],
   "source": [
    "# SQL query\n",
    "sql_query = \"\"\"SELECT * FROM stream_data\"\"\"\n",
    "\n",
    "# Column names\n",
    "column_names = [\"game_id\",\"stream_id\",\"language\",\"started_at\",\"title\",\n",
    "                \"stream_type\",\"user_id\",\"user_name\",\"viewer_count\",\"user_login\",\"game_name\",\n",
    "                \"thumbnail_url\",\"tag_ids\",\"is_mature\",\"time_logged\"]\n",
    "\n",
    "# Retrieving the data\n",
    "stream_data = postgresql_to_dataframe(connect(co_param), sql_query, column_names)\n",
    "stream_data.head()"
   ]
  },
  {
   "cell_type": "markdown",
   "metadata": {},
   "source": [
    "###"
   ]
  },
  {
   "cell_type": "markdown",
   "metadata": {},
   "source": [
    "### game_info database"
   ]
  },
  {
   "cell_type": "code",
   "execution_count": 6,
   "metadata": {},
   "outputs": [
    {
     "name": "stdout",
     "output_type": "stream",
     "text": [
      "Connecting to the PostgreSQL database...\n",
      "Connection successful\n"
     ]
    },
    {
     "data": {
      "text/html": [
       "<div>\n",
       "<style scoped>\n",
       "    .dataframe tbody tr th:only-of-type {\n",
       "        vertical-align: middle;\n",
       "    }\n",
       "\n",
       "    .dataframe tbody tr th {\n",
       "        vertical-align: top;\n",
       "    }\n",
       "\n",
       "    .dataframe thead th {\n",
       "        text-align: right;\n",
       "    }\n",
       "</style>\n",
       "<table border=\"1\" class=\"dataframe\">\n",
       "  <thead>\n",
       "    <tr style=\"text-align: right;\">\n",
       "      <th></th>\n",
       "      <th>game_id</th>\n",
       "      <th>game_name</th>\n",
       "      <th>game_picture_url</th>\n",
       "      <th>time_logged</th>\n",
       "    </tr>\n",
       "  </thead>\n",
       "  <tbody>\n",
       "    <tr>\n",
       "      <th>0</th>\n",
       "      <td>743</td>\n",
       "      <td>Chess</td>\n",
       "      <td>https://static-cdn.jtvnw.net/ttv-boxart/743-{w...</td>\n",
       "      <td>2022-11-09 12:24:36</td>\n",
       "    </tr>\n",
       "    <tr>\n",
       "      <th>1</th>\n",
       "      <td>2748</td>\n",
       "      <td>Magic: The Gathering</td>\n",
       "      <td>https://static-cdn.jtvnw.net/ttv-boxart/2748-{...</td>\n",
       "      <td>2022-11-09 12:24:36</td>\n",
       "    </tr>\n",
       "    <tr>\n",
       "      <th>2</th>\n",
       "      <td>11989</td>\n",
       "      <td>StarCraft</td>\n",
       "      <td>https://static-cdn.jtvnw.net/ttv-boxart/11989_...</td>\n",
       "      <td>2022-11-09 12:24:36</td>\n",
       "    </tr>\n",
       "    <tr>\n",
       "      <th>3</th>\n",
       "      <td>12839</td>\n",
       "      <td>Heroes of Might and Magic III: The Restoration...</td>\n",
       "      <td>https://static-cdn.jtvnw.net/ttv-boxart/12839_...</td>\n",
       "      <td>2022-11-09 12:24:36</td>\n",
       "    </tr>\n",
       "    <tr>\n",
       "      <th>4</th>\n",
       "      <td>12924</td>\n",
       "      <td>Warcraft III</td>\n",
       "      <td>https://static-cdn.jtvnw.net/ttv-boxart/12924-...</td>\n",
       "      <td>2022-11-09 12:24:36</td>\n",
       "    </tr>\n",
       "  </tbody>\n",
       "</table>\n",
       "</div>"
      ],
      "text/plain": [
       "  game_id                                          game_name  \\\n",
       "0     743                                              Chess   \n",
       "1    2748                               Magic: The Gathering   \n",
       "2   11989                                          StarCraft   \n",
       "3   12839  Heroes of Might and Magic III: The Restoration...   \n",
       "4   12924                                       Warcraft III   \n",
       "\n",
       "                                    game_picture_url          time_logged  \n",
       "0  https://static-cdn.jtvnw.net/ttv-boxart/743-{w...  2022-11-09 12:24:36  \n",
       "1  https://static-cdn.jtvnw.net/ttv-boxart/2748-{...  2022-11-09 12:24:36  \n",
       "2  https://static-cdn.jtvnw.net/ttv-boxart/11989_...  2022-11-09 12:24:36  \n",
       "3  https://static-cdn.jtvnw.net/ttv-boxart/12839_...  2022-11-09 12:24:36  \n",
       "4  https://static-cdn.jtvnw.net/ttv-boxart/12924-...  2022-11-09 12:24:36  "
      ]
     },
     "execution_count": 6,
     "metadata": {},
     "output_type": "execute_result"
    }
   ],
   "source": [
    "# SQL query\n",
    "sql_query = \"\"\"SELECT * FROM game_info\"\"\"\n",
    "\n",
    "# Column names\n",
    "column_names = [\"game_id\",\"game_name\",\"game_picture_url\",\"time_logged\"]\n",
    "\n",
    "# Retrieving the data\n",
    "game_info = postgresql_to_dataframe(connect(co_param), sql_query, column_names)\n",
    "game_info.head()"
   ]
  },
  {
   "cell_type": "code",
   "execution_count": null,
   "metadata": {},
   "outputs": [],
   "source": []
  }
 ],
 "metadata": {
  "kernelspec": {
   "display_name": "Python 3.10.4 64-bit",
   "language": "python",
   "name": "python3"
  },
  "language_info": {
   "codemirror_mode": {
    "name": "ipython",
    "version": 3
   },
   "file_extension": ".py",
   "mimetype": "text/x-python",
   "name": "python",
   "nbconvert_exporter": "python",
   "pygments_lexer": "ipython3",
   "version": "3.10.4"
  },
  "orig_nbformat": 4,
  "vscode": {
   "interpreter": {
    "hash": "d41f633da6a0ed462606ff387ac8d93faacd97ec55d72fd1ffe37702897b9b90"
   }
  }
 },
 "nbformat": 4,
 "nbformat_minor": 2
}
