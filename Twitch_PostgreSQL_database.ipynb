{
 "cells": [
  {
   "cell_type": "markdown",
   "metadata": {},
   "source": [
    "# Twitch PostgreSQL database"
   ]
  },
  {
   "cell_type": "markdown",
   "metadata": {},
   "source": [
    "### PostgreSQL connection"
   ]
  },
  {
   "cell_type": "markdown",
   "metadata": {},
   "source": [
    "Based on https://naysan.ca/2020/05/31/postgresql-to-pandas/"
   ]
  },
  {
   "cell_type": "code",
   "execution_count": 1,
   "metadata": {},
   "outputs": [
    {
     "name": "stderr",
     "output_type": "stream",
     "text": [
      "[nltk_data] Downloading package vader_lexicon to\n",
      "[nltk_data]     C:\\Users\\Hugo\\AppData\\Roaming\\nltk_data...\n",
      "[nltk_data]   Package vader_lexicon is already up-to-date!\n"
     ]
    },
    {
     "data": {
      "text/plain": [
       "True"
      ]
     },
     "execution_count": 1,
     "metadata": {},
     "output_type": "execute_result"
    }
   ],
   "source": [
    "# Librairies\n",
    "import psycopg2\n",
    "import pandas as pd\n",
    "import numpy as np\n",
    "import sys\n",
    "import nltk\n",
    "nltk.download('vader_lexicon')"
   ]
  },
  {
   "cell_type": "code",
   "execution_count": 2,
   "metadata": {},
   "outputs": [],
   "source": [
    "# Connection parameters to login\n",
    "co_param = {\n",
    "    \"host\"      : \"twitch.caampywfg0rz.us-east-1.rds.amazonaws.com\",\n",
    "    \"database\"  : \"Twitch\",\n",
    "    \"user\"      : \"GaTech_team_96\",\n",
    "    \"password\"  : \"i-love-my-coffee-without-milk-and-sugar-at-800AM\"\n",
    "}"
   ]
  },
  {
   "cell_type": "code",
   "execution_count": 3,
   "metadata": {},
   "outputs": [],
   "source": [
    "def connect(co_param):\n",
    "    \"\"\"\n",
    "    Connect to the PostgreSQL database server\n",
    "    \"\"\"\n",
    "    conn = None\n",
    "    try:\n",
    "        # connect to the PostgreSQL server\n",
    "        print('Connecting to the PostgreSQL database...')\n",
    "        conn = psycopg2.connect(**co_param)\n",
    "    except (Exception, psycopg2.DatabaseError) as error:\n",
    "        print(error)\n",
    "        sys.exit(1) \n",
    "    print(\"Connection successful\")\n",
    "    return conn"
   ]
  },
  {
   "cell_type": "code",
   "execution_count": 4,
   "metadata": {},
   "outputs": [],
   "source": [
    "def postgresql_to_dataframe(conn, select_query, column_names):\n",
    "    \"\"\"\n",
    "    Tranform a SELECT query into a pandas dataframe\n",
    "    \"\"\"\n",
    "    cursor = conn.cursor()\n",
    "    try:\n",
    "        cursor.execute(select_query)\n",
    "    except (Exception, psycopg2.DatabaseError) as error:\n",
    "        print(\"Error: %s\" % error)\n",
    "        cursor.close()\n",
    "        return 1\n",
    "    \n",
    "    # Naturally we get a list of tupples\n",
    "    tupples = cursor.fetchall()\n",
    "    cursor.close()\n",
    "    \n",
    "    # We just need to turn it into a pandas dataframe\n",
    "    df = pd.DataFrame(tupples, columns=column_names)\n",
    "    return df"
   ]
  },
  {
   "cell_type": "markdown",
   "metadata": {},
   "source": [
    "### stream_data database"
   ]
  },
  {
   "cell_type": "code",
   "execution_count": 5,
   "metadata": {},
   "outputs": [
    {
     "name": "stdout",
     "output_type": "stream",
     "text": [
      "Connecting to the PostgreSQL database...\n",
      "Connection successful\n"
     ]
    }
   ],
   "source": [
    "# SQL query\n",
    "sql_query = \"\"\"SELECT * FROM stream_data\"\"\"\n",
    "\n",
    "# Column names\n",
    "stream_data_col_names = [\"game_id\",\"stream_id\",\"language\",\"started_at\",\"title\",\n",
    "                            \"stream_type\",\"user_id\",\"user_name\",\"viewer_count\",\"user_login\",\"game_name\",\n",
    "                            \"thumbnail_url\",\"tag_ids\",\"is_mature\",\"time_logged\"]\n",
    "\n",
    "# Retrieving the data\n",
    "stream_data = postgresql_to_dataframe(connect(co_param), sql_query, stream_data_col_names)\n",
    "# stream_data.head()"
   ]
  },
  {
   "cell_type": "code",
   "execution_count": 6,
   "metadata": {},
   "outputs": [
    {
     "data": {
      "text/plain": [
       "(2591336, 15)"
      ]
     },
     "execution_count": 6,
     "metadata": {},
     "output_type": "execute_result"
    }
   ],
   "source": [
    "stream_data.shape"
   ]
  },
  {
   "cell_type": "markdown",
   "metadata": {},
   "source": [
    "###"
   ]
  },
  {
   "cell_type": "code",
   "execution_count": 7,
   "metadata": {},
   "outputs": [
    {
     "data": {
      "text/html": [
       "<div>\n",
       "<style scoped>\n",
       "    .dataframe tbody tr th:only-of-type {\n",
       "        vertical-align: middle;\n",
       "    }\n",
       "\n",
       "    .dataframe tbody tr th {\n",
       "        vertical-align: top;\n",
       "    }\n",
       "\n",
       "    .dataframe thead th {\n",
       "        text-align: right;\n",
       "    }\n",
       "</style>\n",
       "<table border=\"1\" class=\"dataframe\">\n",
       "  <thead>\n",
       "    <tr style=\"text-align: right;\">\n",
       "      <th></th>\n",
       "      <th>game_id</th>\n",
       "      <th>stream_id</th>\n",
       "      <th>language</th>\n",
       "      <th>started_at</th>\n",
       "      <th>title</th>\n",
       "      <th>stream_type</th>\n",
       "      <th>user_id</th>\n",
       "      <th>user_name</th>\n",
       "      <th>viewer_count</th>\n",
       "      <th>user_login</th>\n",
       "      <th>game_name</th>\n",
       "      <th>thumbnail_url</th>\n",
       "      <th>tag_ids</th>\n",
       "      <th>is_mature</th>\n",
       "      <th>time_logged</th>\n",
       "      <th>stream_duration_hours</th>\n",
       "    </tr>\n",
       "  </thead>\n",
       "  <tbody>\n",
       "    <tr>\n",
       "      <th>0</th>\n",
       "      <td>66082</td>\n",
       "      <td>47439542941</td>\n",
       "      <td>en</td>\n",
       "      <td>2022-11-09 03:17:16</td>\n",
       "      <td>It’s November 8th🍁🍂 |Get In Here You Beutiful ...</td>\n",
       "      <td>live</td>\n",
       "      <td>706431485</td>\n",
       "      <td>HoneyBearForever</td>\n",
       "      <td>2</td>\n",
       "      <td>honeybearforever</td>\n",
       "      <td>Games + Demos</td>\n",
       "      <td>https://static-cdn.jtvnw.net/previews-ttv/live...</td>\n",
       "      <td>{6ea6bca4-4712-4ab9-a906-e3336a9d8039}</td>\n",
       "      <td>0</td>\n",
       "      <td>2022-11-09 12:25:26</td>\n",
       "      <td>9.136111</td>\n",
       "    </tr>\n",
       "    <tr>\n",
       "      <th>1</th>\n",
       "      <td>66082</td>\n",
       "      <td>39833459447</td>\n",
       "      <td>ja</td>\n",
       "      <td>2022-11-09 11:37:29</td>\n",
       "      <td>INFINITAS</td>\n",
       "      <td>live</td>\n",
       "      <td>31589811</td>\n",
       "      <td>micchaq</td>\n",
       "      <td>2</td>\n",
       "      <td>micchaq</td>\n",
       "      <td>Games + Demos</td>\n",
       "      <td>https://static-cdn.jtvnw.net/previews-ttv/live...</td>\n",
       "      <td>{6ba1d230-e52f-4d81-b1e0-41f25a8a9f5d}</td>\n",
       "      <td>0</td>\n",
       "      <td>2022-11-09 12:25:26</td>\n",
       "      <td>0.799167</td>\n",
       "    </tr>\n",
       "    <tr>\n",
       "      <th>2</th>\n",
       "      <td>66082</td>\n",
       "      <td>40052599048</td>\n",
       "      <td>de</td>\n",
       "      <td>2022-11-09 12:17:00</td>\n",
       "      <td>Auf geht es  !!!  über Neue Follower würde ich...</td>\n",
       "      <td>live</td>\n",
       "      <td>544022492</td>\n",
       "      <td>xxcubaliebrexx</td>\n",
       "      <td>2</td>\n",
       "      <td>xxcubaliebrexx</td>\n",
       "      <td>Games + Demos</td>\n",
       "      <td>https://static-cdn.jtvnw.net/previews-ttv/live...</td>\n",
       "      <td>{9166ad14-41f1-4b04-a3b8-c8eb838c6be6,0c7fba97...</td>\n",
       "      <td>1</td>\n",
       "      <td>2022-11-09 12:25:26</td>\n",
       "      <td>0.140556</td>\n",
       "    </tr>\n",
       "    <tr>\n",
       "      <th>3</th>\n",
       "      <td>66082</td>\n",
       "      <td>41479884235</td>\n",
       "      <td>en</td>\n",
       "      <td>2022-11-09 10:03:27</td>\n",
       "      <td>Steeb got me hooked.</td>\n",
       "      <td>live</td>\n",
       "      <td>795713511</td>\n",
       "      <td>PrimalxCepterk</td>\n",
       "      <td>2</td>\n",
       "      <td>primalxcepterk</td>\n",
       "      <td>Games + Demos</td>\n",
       "      <td>https://static-cdn.jtvnw.net/previews-ttv/live...</td>\n",
       "      <td>{6ea6bca4-4712-4ab9-a906-e3336a9d8039}</td>\n",
       "      <td>0</td>\n",
       "      <td>2022-11-09 12:25:26</td>\n",
       "      <td>2.366389</td>\n",
       "    </tr>\n",
       "    <tr>\n",
       "      <th>4</th>\n",
       "      <td>66082</td>\n",
       "      <td>39833265943</td>\n",
       "      <td>ko</td>\n",
       "      <td>2022-11-09 10:38:21</td>\n",
       "      <td>내맘대로</td>\n",
       "      <td>live</td>\n",
       "      <td>541384018</td>\n",
       "      <td>커피향가득</td>\n",
       "      <td>2</td>\n",
       "      <td>coffee_scented</td>\n",
       "      <td>Games + Demos</td>\n",
       "      <td>https://static-cdn.jtvnw.net/previews-ttv/live...</td>\n",
       "      <td>{ab2975e3-b9ca-4b1a-a93e-fb61a5d5c3a4}</td>\n",
       "      <td>0</td>\n",
       "      <td>2022-11-09 12:25:26</td>\n",
       "      <td>1.784722</td>\n",
       "    </tr>\n",
       "  </tbody>\n",
       "</table>\n",
       "</div>"
      ],
      "text/plain": [
       "  game_id    stream_id language           started_at  \\\n",
       "0   66082  47439542941       en  2022-11-09 03:17:16   \n",
       "1   66082  39833459447       ja  2022-11-09 11:37:29   \n",
       "2   66082  40052599048       de  2022-11-09 12:17:00   \n",
       "3   66082  41479884235       en  2022-11-09 10:03:27   \n",
       "4   66082  39833265943       ko  2022-11-09 10:38:21   \n",
       "\n",
       "                                               title stream_type    user_id  \\\n",
       "0  It’s November 8th🍁🍂 |Get In Here You Beutiful ...        live  706431485   \n",
       "1                                          INFINITAS        live   31589811   \n",
       "2  Auf geht es  !!!  über Neue Follower würde ich...        live  544022492   \n",
       "3                               Steeb got me hooked.        live  795713511   \n",
       "4                                               내맘대로        live  541384018   \n",
       "\n",
       "          user_name  viewer_count        user_login      game_name  \\\n",
       "0  HoneyBearForever             2  honeybearforever  Games + Demos   \n",
       "1           micchaq             2           micchaq  Games + Demos   \n",
       "2    xxcubaliebrexx             2    xxcubaliebrexx  Games + Demos   \n",
       "3    PrimalxCepterk             2    primalxcepterk  Games + Demos   \n",
       "4             커피향가득             2    coffee_scented  Games + Demos   \n",
       "\n",
       "                                       thumbnail_url  \\\n",
       "0  https://static-cdn.jtvnw.net/previews-ttv/live...   \n",
       "1  https://static-cdn.jtvnw.net/previews-ttv/live...   \n",
       "2  https://static-cdn.jtvnw.net/previews-ttv/live...   \n",
       "3  https://static-cdn.jtvnw.net/previews-ttv/live...   \n",
       "4  https://static-cdn.jtvnw.net/previews-ttv/live...   \n",
       "\n",
       "                                             tag_ids is_mature  \\\n",
       "0             {6ea6bca4-4712-4ab9-a906-e3336a9d8039}         0   \n",
       "1             {6ba1d230-e52f-4d81-b1e0-41f25a8a9f5d}         0   \n",
       "2  {9166ad14-41f1-4b04-a3b8-c8eb838c6be6,0c7fba97...         1   \n",
       "3             {6ea6bca4-4712-4ab9-a906-e3336a9d8039}         0   \n",
       "4             {ab2975e3-b9ca-4b1a-a93e-fb61a5d5c3a4}         0   \n",
       "\n",
       "           time_logged  stream_duration_hours  \n",
       "0  2022-11-09 12:25:26               9.136111  \n",
       "1  2022-11-09 12:25:26               0.799167  \n",
       "2  2022-11-09 12:25:26               0.140556  \n",
       "3  2022-11-09 12:25:26               2.366389  \n",
       "4  2022-11-09 12:25:26               1.784722  "
      ]
     },
     "execution_count": 7,
     "metadata": {},
     "output_type": "execute_result"
    }
   ],
   "source": [
    "# changing formatting from \n",
    "stream_data.loc[:,\"started_at\"] = stream_data.loc[:,\"started_at\"].map(lambda x: x.rstrip(\"Z\"))\n",
    "stream_data.loc[:,\"started_at\"] = stream_data.loc[:,\"started_at\"].map(lambda x: x.replace(\"T\", \" \"))\n",
    "stream_data[\"stream_duration_hours\"] = pd.to_datetime(stream_data[\"time_logged\"])-pd.to_datetime(stream_data[\"started_at\"])\n",
    "stream_data['stream_duration_hours'] = stream_data['stream_duration_hours']/np.timedelta64(1, 'h')\n",
    "\n",
    "\n",
    "# Changing is_mature with True =1 & False = 0\n",
    "stream_data.loc[stream_data[\"is_mature\"] == True, \"is_mature\"] = 1\n",
    "stream_data.loc[stream_data[\"is_mature\"] == False, \"is_mature\"] = 0\n",
    "\n",
    "stream_data.head()\n",
    "\n",
    "# stream_data.to_csv('twitch_stream_data.csv')"
   ]
  },
  {
   "cell_type": "markdown",
   "metadata": {},
   "source": [
    "0. filtering at english game\n",
    "1. temp => get the diff of time_logged and started_at\n",
    "2. how is the game behaving after 1week or 2? >>> defining a target for the MLalgo\n",
    "        input target\n",
    "        avg/medium/total viewers >>> \n",
    "3. Post-temp >>> sentiment analysis >>> title\n",
    "4. Audience target > is_mature of the game\n",
    "5. python dict for the categories of the game\n",
    "\n"
   ]
  },
  {
   "cell_type": "markdown",
   "metadata": {},
   "source": [
    "### stream_data_ENG database"
   ]
  },
  {
   "cell_type": "code",
   "execution_count": 15,
   "metadata": {},
   "outputs": [],
   "source": [
    "# Generating a temp database\n",
    "df_temp = stream_data\n",
    "\n",
    "# Selecting only English stream\n",
    "df_temp = df_temp[df_temp[\"language\"] == \"en\"]\n",
    "\n",
    "# Computing the final table\n",
    "stream_data_ENG = df_temp\n",
    "stream_data_ENG.head()\n",
    "\n",
    "stream_data_ENG.to_csv('twitch_data_stream_data_ENG.csv')"
   ]
  },
  {
   "cell_type": "markdown",
   "metadata": {},
   "source": [
    "### df_game_avg_maturity database"
   ]
  },
  {
   "cell_type": "code",
   "execution_count": 9,
   "metadata": {},
   "outputs": [
    {
     "data": {
      "text/html": [
       "<div>\n",
       "<style scoped>\n",
       "    .dataframe tbody tr th:only-of-type {\n",
       "        vertical-align: middle;\n",
       "    }\n",
       "\n",
       "    .dataframe tbody tr th {\n",
       "        vertical-align: top;\n",
       "    }\n",
       "\n",
       "    .dataframe thead th {\n",
       "        text-align: right;\n",
       "    }\n",
       "</style>\n",
       "<table border=\"1\" class=\"dataframe\">\n",
       "  <thead>\n",
       "    <tr style=\"text-align: right;\">\n",
       "      <th></th>\n",
       "      <th></th>\n",
       "      <th>avg_maturity</th>\n",
       "    </tr>\n",
       "    <tr>\n",
       "      <th>game_id</th>\n",
       "      <th>time_logged</th>\n",
       "      <th></th>\n",
       "    </tr>\n",
       "  </thead>\n",
       "  <tbody>\n",
       "    <tr>\n",
       "      <th rowspan=\"10\" valign=\"top\">102007682</th>\n",
       "      <th>2022-11-09 12:24:55</th>\n",
       "      <td>0.483871</td>\n",
       "    </tr>\n",
       "    <tr>\n",
       "      <th>2022-11-09 12:24:57</th>\n",
       "      <td>0.483871</td>\n",
       "    </tr>\n",
       "    <tr>\n",
       "      <th>2022-11-09 12:25:20</th>\n",
       "      <td>0.483871</td>\n",
       "    </tr>\n",
       "    <tr>\n",
       "      <th>2022-11-09 12:25:26</th>\n",
       "      <td>0.483871</td>\n",
       "    </tr>\n",
       "    <tr>\n",
       "      <th>2022-11-09 12:25:45</th>\n",
       "      <td>0.500000</td>\n",
       "    </tr>\n",
       "    <tr>\n",
       "      <th>2022-11-09 12:25:46</th>\n",
       "      <td>0.500000</td>\n",
       "    </tr>\n",
       "    <tr>\n",
       "      <th>2022-11-09 12:25:47</th>\n",
       "      <td>0.500000</td>\n",
       "    </tr>\n",
       "    <tr>\n",
       "      <th>2022-11-09 12:26:08</th>\n",
       "      <td>0.517241</td>\n",
       "    </tr>\n",
       "    <tr>\n",
       "      <th>2022-11-09 12:26:10</th>\n",
       "      <td>0.517241</td>\n",
       "    </tr>\n",
       "    <tr>\n",
       "      <th>2022-11-09 12:26:44</th>\n",
       "      <td>0.517241</td>\n",
       "    </tr>\n",
       "  </tbody>\n",
       "</table>\n",
       "</div>"
      ],
      "text/plain": [
       "                               avg_maturity\n",
       "game_id   time_logged                      \n",
       "102007682 2022-11-09 12:24:55      0.483871\n",
       "          2022-11-09 12:24:57      0.483871\n",
       "          2022-11-09 12:25:20      0.483871\n",
       "          2022-11-09 12:25:26      0.483871\n",
       "          2022-11-09 12:25:45      0.500000\n",
       "          2022-11-09 12:25:46      0.500000\n",
       "          2022-11-09 12:25:47      0.500000\n",
       "          2022-11-09 12:26:08      0.517241\n",
       "          2022-11-09 12:26:10      0.517241\n",
       "          2022-11-09 12:26:44      0.517241"
      ]
     },
     "execution_count": 9,
     "metadata": {},
     "output_type": "execute_result"
    }
   ],
   "source": [
    "# Generating a temp database\n",
    "df = stream_data_ENG[[\"game_id\", \"time_logged\", \"is_mature\"]].copy()\n",
    "\n",
    "# changing the format of the col\n",
    "df[\"game_id\"] = df[\"game_id\"].astype('str')\n",
    "df[\"avg_maturity\"] = df[\"is_mature\"].astype('float')\n",
    "\n",
    "# Grouping by \"game_id\" and \"time_logged\" and its avg \"is_mature\"\n",
    "df_game_avg_maturity = df.groupby([\"game_id\", \"time_logged\"]).mean()\n",
    "df_game_avg_maturity.head(10)\n",
    "\n",
    "# df_game_avg_maturity.to_csv('twitch_data_avg_maturity.csv')"
   ]
  },
  {
   "cell_type": "markdown",
   "metadata": {},
   "source": [
    "### Twitch Tags and their categories"
   ]
  },
  {
   "cell_type": "code",
   "execution_count": 10,
   "metadata": {},
   "outputs": [
    {
     "data": {
      "text/html": [
       "<div>\n",
       "<style scoped>\n",
       "    .dataframe tbody tr th:only-of-type {\n",
       "        vertical-align: middle;\n",
       "    }\n",
       "\n",
       "    .dataframe tbody tr th {\n",
       "        vertical-align: top;\n",
       "    }\n",
       "\n",
       "    .dataframe thead th {\n",
       "        text-align: right;\n",
       "    }\n",
       "</style>\n",
       "<table border=\"1\" class=\"dataframe\">\n",
       "  <thead>\n",
       "    <tr style=\"text-align: right;\">\n",
       "      <th></th>\n",
       "      <th>Category_or_Stream</th>\n",
       "      <th>TagName</th>\n",
       "      <th>TagId</th>\n",
       "    </tr>\n",
       "  </thead>\n",
       "  <tbody>\n",
       "    <tr>\n",
       "      <th>0</th>\n",
       "      <td>Category</td>\n",
       "      <td>4X</td>\n",
       "      <td>7304b834-d065-47d5-9865-c19cd17d2639</td>\n",
       "    </tr>\n",
       "    <tr>\n",
       "      <th>1</th>\n",
       "      <td>Category</td>\n",
       "      <td>Action</td>\n",
       "      <td>4d1eaa36-f750-4862-b7e9-d0a13970d535</td>\n",
       "    </tr>\n",
       "    <tr>\n",
       "      <th>2</th>\n",
       "      <td>Category</td>\n",
       "      <td>Adventure Game</td>\n",
       "      <td>80427d95-bb46-42d3-bf4d-408e9bdca49a</td>\n",
       "    </tr>\n",
       "    <tr>\n",
       "      <th>3</th>\n",
       "      <td>Category</td>\n",
       "      <td>Arcade</td>\n",
       "      <td>7ff66192-68ef-4b69-8906-24736bf66ed0</td>\n",
       "    </tr>\n",
       "    <tr>\n",
       "      <th>4</th>\n",
       "      <td>Category</td>\n",
       "      <td>Autobattler</td>\n",
       "      <td>cd2ee226-342b-4e6b-90d5-c14687006b04</td>\n",
       "    </tr>\n",
       "  </tbody>\n",
       "</table>\n",
       "</div>"
      ],
      "text/plain": [
       "  Category_or_Stream         TagName                                 TagId\n",
       "0           Category              4X  7304b834-d065-47d5-9865-c19cd17d2639\n",
       "1           Category          Action  4d1eaa36-f750-4862-b7e9-d0a13970d535\n",
       "2           Category  Adventure Game  80427d95-bb46-42d3-bf4d-408e9bdca49a\n",
       "3           Category          Arcade  7ff66192-68ef-4b69-8906-24736bf66ed0\n",
       "4           Category     Autobattler  cd2ee226-342b-4e6b-90d5-c14687006b04"
      ]
     },
     "execution_count": 10,
     "metadata": {},
     "output_type": "execute_result"
    }
   ],
   "source": [
    "# Windows\n",
    "# twitch_tags_cat = pd.read_csv('api_connection\\Twitch_tags.csv')\n",
    "\n",
    "# Linux/Mac\n",
    "twitch_tags_cat = pd.read_csv('./api_connection/Twitch_tags.csv')\n",
    "\n",
    "twitch_tags_cat.head()"
   ]
  },
  {
   "cell_type": "code",
   "execution_count": 11,
   "metadata": {},
   "outputs": [
    {
     "data": {
      "text/html": [
       "<div>\n",
       "<style scoped>\n",
       "    .dataframe tbody tr th:only-of-type {\n",
       "        vertical-align: middle;\n",
       "    }\n",
       "\n",
       "    .dataframe tbody tr th {\n",
       "        vertical-align: top;\n",
       "    }\n",
       "\n",
       "    .dataframe thead th {\n",
       "        text-align: right;\n",
       "    }\n",
       "</style>\n",
       "<table border=\"1\" class=\"dataframe\">\n",
       "  <thead>\n",
       "    <tr style=\"text-align: right;\">\n",
       "      <th></th>\n",
       "      <th>Category_or_Stream</th>\n",
       "      <th>TagName</th>\n",
       "      <th>TagId</th>\n",
       "    </tr>\n",
       "  </thead>\n",
       "  <tbody>\n",
       "  </tbody>\n",
       "</table>\n",
       "</div>"
      ],
      "text/plain": [
       "Empty DataFrame\n",
       "Columns: [Category_or_Stream, TagName, TagId]\n",
       "Index: []"
      ]
     },
     "execution_count": 11,
     "metadata": {},
     "output_type": "execute_result"
    }
   ],
   "source": [
    "# twitch_tags_cat[['TagId', 'TagName']].to_dict()\n",
    "twitch_tags_cat[twitch_tags_cat['TagId'] == '6ea6bca4-4712-4ab9-a906-e3336a9d8039']"
   ]
  },
  {
   "cell_type": "markdown",
   "metadata": {},
   "source": [
    "### Encoding time of day into 6 blocks"
   ]
  },
  {
   "cell_type": "code",
   "execution_count": 12,
   "metadata": {},
   "outputs": [
    {
     "name": "stderr",
     "output_type": "stream",
     "text": [
      "c:\\Users\\Hugo\\AppData\\Local\\Programs\\Python\\Python37\\lib\\site-packages\\ipykernel_launcher.py:5: SettingWithCopyWarning: \n",
      "A value is trying to be set on a copy of a slice from a DataFrame.\n",
      "Try using .loc[row_indexer,col_indexer] = value instead\n",
      "\n",
      "See the caveats in the documentation: https://pandas.pydata.org/pandas-docs/stable/user_guide/indexing.html#returning-a-view-versus-a-copy\n",
      "  \"\"\"\n",
      "c:\\Users\\Hugo\\AppData\\Local\\Programs\\Python\\Python37\\lib\\site-packages\\ipykernel_launcher.py:6: SettingWithCopyWarning: \n",
      "A value is trying to be set on a copy of a slice from a DataFrame.\n",
      "Try using .loc[row_indexer,col_indexer] = value instead\n",
      "\n",
      "See the caveats in the documentation: https://pandas.pydata.org/pandas-docs/stable/user_guide/indexing.html#returning-a-view-versus-a-copy\n",
      "  \n",
      "c:\\Users\\Hugo\\AppData\\Local\\Programs\\Python\\Python37\\lib\\site-packages\\ipykernel_launcher.py:7: SettingWithCopyWarning: \n",
      "A value is trying to be set on a copy of a slice from a DataFrame.\n",
      "Try using .loc[row_indexer,col_indexer] = value instead\n",
      "\n",
      "See the caveats in the documentation: https://pandas.pydata.org/pandas-docs/stable/user_guide/indexing.html#returning-a-view-versus-a-copy\n",
      "  import sys\n"
     ]
    }
   ],
   "source": [
    "MIN_STREAM_TIME_THRESHOLD = 0.5 # Hours\n",
    "MAX_STREAM_TIME_THRESHOLD = 7 # Hours\n",
    "\n",
    "df_with_encoded_time = stream_data_ENG\n",
    "df_with_encoded_time['log_date'] = pd.to_datetime(df_with_encoded_time['time_logged']).dt.date\n",
    "df_with_encoded_time['time_logged_encoded'] = pd.to_datetime(df_with_encoded_time['time_logged']).dt.hour\n",
    "df_with_encoded_time['time_logged_encoded'] =  df_with_encoded_time['time_logged_encoded']//4\n",
    "\n",
    "df_with_encoded_time = df_with_encoded_time[\n",
    "    (df_with_encoded_time['stream_duration_hours'] > MIN_STREAM_TIME_THRESHOLD) & \n",
    "    (df_with_encoded_time['stream_duration_hours'] < MAX_STREAM_TIME_THRESHOLD)\n",
    "].reset_index(drop=True)"
   ]
  },
  {
   "cell_type": "code",
   "execution_count": 13,
   "metadata": {},
   "outputs": [],
   "source": [
    "from nltk.sentiment.vader import SentimentIntensityAnalyzer\n",
    "\n",
    "si = SentimentIntensityAnalyzer()\n",
    "\n",
    "def get_sentiment_row(row):\n",
    "    sentiment = si.polarity_scores(row)\n",
    "    return pd.Series([sentiment['pos'], sentiment['neg'], sentiment['neu']])\n",
    "\n",
    "df_with_encoded_time['positive_sentiment'] = 0.0\n",
    "df_with_encoded_time['negative_sentiment'] = 0.0\n",
    "df_with_encoded_time['neutral_sentiment'] = 0.0\n",
    "\n",
    "df_with_encoded_time[['positive_sentiment',\n",
    "                     'negative_sentiment',\n",
    "                     'neutral_sentiment']] =  df_with_encoded_time.title.apply(lambda row: get_sentiment_row(row))"
   ]
  },
  {
   "cell_type": "markdown",
   "metadata": {},
   "source": [
    "### Feature Engineering"
   ]
  },
  {
   "cell_type": "code",
   "execution_count": 14,
   "metadata": {},
   "outputs": [
    {
     "ename": "DataError",
     "evalue": "No numeric types to aggregate",
     "output_type": "error",
     "traceback": [
      "\u001b[1;31m---------------------------------------------------------------------------\u001b[0m",
      "\u001b[1;31mDataError\u001b[0m                                 Traceback (most recent call last)",
      "\u001b[1;32m~\\AppData\\Local\\Temp\\ipykernel_10420\\1809960563.py\u001b[0m in \u001b[0;36m<module>\u001b[1;34m\u001b[0m\n\u001b[0;32m     27\u001b[0m \u001b[1;33m\u001b[0m\u001b[0m\n\u001b[0;32m     28\u001b[0m \u001b[1;31m# Add average matrure rating\u001b[0m\u001b[1;33m\u001b[0m\u001b[1;33m\u001b[0m\u001b[1;33m\u001b[0m\u001b[0m\n\u001b[1;32m---> 29\u001b[1;33m \u001b[0mtemp_df\u001b[0m \u001b[1;33m=\u001b[0m \u001b[0mdf_with_encoded_time\u001b[0m\u001b[1;33m.\u001b[0m\u001b[0mgroupby\u001b[0m\u001b[1;33m(\u001b[0m\u001b[1;33m[\u001b[0m\u001b[1;34m'time_logged_encoded'\u001b[0m\u001b[1;33m,\u001b[0m \u001b[1;34m'game_name'\u001b[0m\u001b[1;33m,\u001b[0m \u001b[1;34m'log_date'\u001b[0m\u001b[1;33m]\u001b[0m\u001b[1;33m)\u001b[0m\u001b[1;33m[\u001b[0m\u001b[1;33m[\u001b[0m\u001b[1;34m'is_mature'\u001b[0m\u001b[1;33m]\u001b[0m\u001b[1;33m]\u001b[0m\u001b[1;33m.\u001b[0m\u001b[0mmean\u001b[0m\u001b[1;33m(\u001b[0m\u001b[1;33m)\u001b[0m\u001b[1;33m.\u001b[0m\u001b[0mreset_index\u001b[0m\u001b[1;33m(\u001b[0m\u001b[1;33m)\u001b[0m\u001b[1;33m\u001b[0m\u001b[1;33m\u001b[0m\u001b[0m\n\u001b[0m\u001b[0;32m     30\u001b[0m \u001b[0mdf_with_features\u001b[0m \u001b[1;33m=\u001b[0m \u001b[0mpd\u001b[0m\u001b[1;33m.\u001b[0m\u001b[0mmerge\u001b[0m\u001b[1;33m(\u001b[0m\u001b[0mdf_with_features\u001b[0m\u001b[1;33m,\u001b[0m \u001b[0mtemp_df\u001b[0m\u001b[1;33m)\u001b[0m\u001b[1;33m\u001b[0m\u001b[1;33m\u001b[0m\u001b[0m\n\u001b[0;32m     31\u001b[0m \u001b[1;33m\u001b[0m\u001b[0m\n",
      "\u001b[1;32mc:\\Users\\Hugo\\AppData\\Local\\Programs\\Python\\Python37\\lib\\site-packages\\pandas\\core\\groupby\\groupby.py\u001b[0m in \u001b[0;36mmean\u001b[1;34m(self, numeric_only)\u001b[0m\n\u001b[0;32m   1392\u001b[0m             \u001b[1;34m\"mean\"\u001b[0m\u001b[1;33m,\u001b[0m\u001b[1;33m\u001b[0m\u001b[1;33m\u001b[0m\u001b[0m\n\u001b[0;32m   1393\u001b[0m             \u001b[0malt\u001b[0m\u001b[1;33m=\u001b[0m\u001b[1;32mlambda\u001b[0m \u001b[0mx\u001b[0m\u001b[1;33m,\u001b[0m \u001b[0maxis\u001b[0m\u001b[1;33m:\u001b[0m \u001b[0mSeries\u001b[0m\u001b[1;33m(\u001b[0m\u001b[0mx\u001b[0m\u001b[1;33m)\u001b[0m\u001b[1;33m.\u001b[0m\u001b[0mmean\u001b[0m\u001b[1;33m(\u001b[0m\u001b[0mnumeric_only\u001b[0m\u001b[1;33m=\u001b[0m\u001b[0mnumeric_only\u001b[0m\u001b[1;33m)\u001b[0m\u001b[1;33m,\u001b[0m\u001b[1;33m\u001b[0m\u001b[1;33m\u001b[0m\u001b[0m\n\u001b[1;32m-> 1394\u001b[1;33m             \u001b[0mnumeric_only\u001b[0m\u001b[1;33m=\u001b[0m\u001b[0mnumeric_only\u001b[0m\u001b[1;33m,\u001b[0m\u001b[1;33m\u001b[0m\u001b[1;33m\u001b[0m\u001b[0m\n\u001b[0m\u001b[0;32m   1395\u001b[0m         )\n\u001b[0;32m   1396\u001b[0m \u001b[1;33m\u001b[0m\u001b[0m\n",
      "\u001b[1;32mc:\\Users\\Hugo\\AppData\\Local\\Programs\\Python\\Python37\\lib\\site-packages\\pandas\\core\\groupby\\generic.py\u001b[0m in \u001b[0;36m_cython_agg_general\u001b[1;34m(self, how, alt, numeric_only, min_count)\u001b[0m\n\u001b[0;32m   1014\u001b[0m     ) -> DataFrame:\n\u001b[0;32m   1015\u001b[0m         agg_blocks, agg_items = self._cython_agg_blocks(\n\u001b[1;32m-> 1016\u001b[1;33m             \u001b[0mhow\u001b[0m\u001b[1;33m,\u001b[0m \u001b[0malt\u001b[0m\u001b[1;33m=\u001b[0m\u001b[0malt\u001b[0m\u001b[1;33m,\u001b[0m \u001b[0mnumeric_only\u001b[0m\u001b[1;33m=\u001b[0m\u001b[0mnumeric_only\u001b[0m\u001b[1;33m,\u001b[0m \u001b[0mmin_count\u001b[0m\u001b[1;33m=\u001b[0m\u001b[0mmin_count\u001b[0m\u001b[1;33m\u001b[0m\u001b[1;33m\u001b[0m\u001b[0m\n\u001b[0m\u001b[0;32m   1017\u001b[0m         )\n\u001b[0;32m   1018\u001b[0m         \u001b[1;32mreturn\u001b[0m \u001b[0mself\u001b[0m\u001b[1;33m.\u001b[0m\u001b[0m_wrap_agged_blocks\u001b[0m\u001b[1;33m(\u001b[0m\u001b[0magg_blocks\u001b[0m\u001b[1;33m,\u001b[0m \u001b[0mitems\u001b[0m\u001b[1;33m=\u001b[0m\u001b[0magg_items\u001b[0m\u001b[1;33m)\u001b[0m\u001b[1;33m\u001b[0m\u001b[1;33m\u001b[0m\u001b[0m\n",
      "\u001b[1;32mc:\\Users\\Hugo\\AppData\\Local\\Programs\\Python\\Python37\\lib\\site-packages\\pandas\\core\\groupby\\generic.py\u001b[0m in \u001b[0;36m_cython_agg_blocks\u001b[1;34m(self, how, alt, numeric_only, min_count)\u001b[0m\n\u001b[0;32m   1122\u001b[0m \u001b[1;33m\u001b[0m\u001b[0m\n\u001b[0;32m   1123\u001b[0m         \u001b[1;32mif\u001b[0m \u001b[1;32mnot\u001b[0m \u001b[1;33m(\u001b[0m\u001b[0magg_blocks\u001b[0m \u001b[1;32mor\u001b[0m \u001b[0msplit_frames\u001b[0m\u001b[1;33m)\u001b[0m\u001b[1;33m:\u001b[0m\u001b[1;33m\u001b[0m\u001b[1;33m\u001b[0m\u001b[0m\n\u001b[1;32m-> 1124\u001b[1;33m             \u001b[1;32mraise\u001b[0m \u001b[0mDataError\u001b[0m\u001b[1;33m(\u001b[0m\u001b[1;34m\"No numeric types to aggregate\"\u001b[0m\u001b[1;33m)\u001b[0m\u001b[1;33m\u001b[0m\u001b[1;33m\u001b[0m\u001b[0m\n\u001b[0m\u001b[0;32m   1125\u001b[0m \u001b[1;33m\u001b[0m\u001b[0m\n\u001b[0;32m   1126\u001b[0m         \u001b[1;32mif\u001b[0m \u001b[0msplit_items\u001b[0m\u001b[1;33m:\u001b[0m\u001b[1;33m\u001b[0m\u001b[1;33m\u001b[0m\u001b[0m\n",
      "\u001b[1;31mDataError\u001b[0m: No numeric types to aggregate"
     ]
    }
   ],
   "source": [
    "# Add mean, median, total viewership \n",
    "df_with_features = df_with_encoded_time.groupby(['time_logged_encoded', 'game_name', 'log_date'])[['viewer_count']].mean().reset_index()\n",
    "df_with_features = df_with_features.rename(columns={'viewer_count': 'mean_viewer_count'})\n",
    "\n",
    "temp_df = df_with_encoded_time.groupby(['time_logged_encoded', 'game_name', 'log_date'])[['viewer_count']].median().reset_index()\n",
    "temp_df = temp_df.rename(columns={'viewer_count': 'median_viewer_count'})\n",
    "df_with_features = pd.merge(df_with_features, temp_df)\n",
    "\n",
    "temp_df = df_with_encoded_time.groupby(['time_logged_encoded', 'game_name', 'log_date'])[['viewer_count']].sum().reset_index()\n",
    "temp_df = temp_df.rename(columns={'viewer_count': 'total_viewer_count'})\n",
    "df_with_features = pd.merge(df_with_features, temp_df)\n",
    "\n",
    "\n",
    "# Add mean, median, total stream time \n",
    "temp_df = df_with_encoded_time.groupby(['time_logged_encoded', 'game_name', 'log_date'])[['stream_duration_hours']].mean().reset_index()\n",
    "temp_df = temp_df.rename(columns={'stream_duration_hours': 'mean_stream_duration_hours'})\n",
    "df_with_features = pd.merge(df_with_features, temp_df)\n",
    "\n",
    "temp_df = df_with_encoded_time.groupby(['time_logged_encoded', 'game_name', 'log_date'])[['stream_duration_hours']].median().reset_index()\n",
    "temp_df = temp_df.rename(columns={'stream_duration_hours': 'median_stream_duration_hours'})\n",
    "df_with_features = pd.merge(df_with_features, temp_df)\n",
    "\n",
    "temp_df = df_with_encoded_time.groupby(['time_logged_encoded', 'game_name', 'log_date'])[['stream_duration_hours']].sum().reset_index()\n",
    "temp_df = temp_df.rename(columns={'stream_duration_hours': 'total_stream_duration_hours'})\n",
    "df_with_features = pd.merge(df_with_features, temp_df)\n",
    "\n",
    "\n",
    "# Add average matrure rating \n",
    "temp_df = df_with_encoded_time.groupby(['time_logged_encoded', 'game_name', 'log_date'])[['is_mature']].mean().reset_index()\n",
    "df_with_features = pd.merge(df_with_features, temp_df)\n",
    "\n",
    "\n",
    "# Add mean sentiment\n",
    "temp_df = df_with_encoded_time.groupby(['time_logged_encoded', 'game_name', 'log_date'])[['positive_sentiment']].mean().reset_index()\n",
    "temp_df = temp_df.rename(columns={'positive_sentiment': 'mean_positive_sentiment'})\n",
    "df_with_features = pd.merge(df_with_features, temp_df)\n",
    "\n",
    "temp_df = df_with_encoded_time.groupby(['time_logged_encoded', 'game_name', 'log_date'])[['negative_sentiment']].mean().reset_index()\n",
    "temp_df = temp_df.rename(columns={'negative_sentiment': 'mean_negative_sentiment'})\n",
    "df_with_features = pd.merge(df_with_features, temp_df)\n",
    "\n",
    "temp_df = df_with_encoded_time.groupby(['time_logged_encoded', 'game_name', 'log_date'])[['neutral_sentiment']].mean().reset_index()\n",
    "temp_df = temp_df.rename(columns={'neutral_sentiment': 'mean_neutral_sentiment'})\n",
    "df_with_features = pd.merge(df_with_features, temp_df)\n",
    "\n",
    "df_with_features.head()"
   ]
  },
  {
   "cell_type": "code",
   "execution_count": null,
   "metadata": {},
   "outputs": [],
   "source": [
    "df_with_features.to_csv('twitch_data_processed_daily.csv')"
   ]
  },
  {
   "cell_type": "code",
   "execution_count": null,
   "metadata": {},
   "outputs": [],
   "source": [
    "df_with_features"
   ]
  },
  {
   "cell_type": "code",
   "execution_count": null,
   "metadata": {},
   "outputs": [],
   "source": [
    "feauture_column_names = list(df_with_features.columns)[3:-3]\n",
    "feauture_column_names"
   ]
  },
  {
   "cell_type": "code",
   "execution_count": null,
   "metadata": {},
   "outputs": [],
   "source": [
    "shift_duration_days = 3\n",
    "\n",
    "training_data_frame_dictionary = {\n",
    "    \n",
    "}\n",
    "for time_slot in df_with_features.time_logged_encoded.unique():\n",
    "    df_filtered_on_timeslot = df_with_features[df_with_features['time_logged_encoded'] == time_slot].copy()\n",
    "    \n",
    "    training_data_frame_dictionary[time_slot] = {\n",
    "        \n",
    "    }\n",
    "    \n",
    "    for game in df_filtered_on_timeslot.game_name.unique():\n",
    "        df_filtered_on_game = df_filtered_on_timeslot[df_filtered_on_timeslot['game_name'] == game].copy()\n",
    "        df_filtered_on_game = df_filtered_on_game.sort_values(by='log_date').reset_index(drop=True)\n",
    "        \n",
    "        \n",
    "        for col in feauture_column_names:\n",
    "            df_filtered_on_game['target_'+ col + '_' + str(shift_duration_days)] = df_filtered_on_game[col].shift(-shift_duration_days)\n",
    "        \n",
    "        training_data_frame_dictionary[time_slot][game] = df_filtered_on_game.dropna().reset_index(drop=True)"
   ]
  },
  {
   "cell_type": "code",
   "execution_count": null,
   "metadata": {},
   "outputs": [],
   "source": [
    "\"\"\"\n",
    "Dictionary with following hierarcy\n",
    "\n",
    "-time slot\n",
    "    - game name\n",
    "        - DataFrame with targets \n",
    "\n",
    "\"\"\" \n",
    "training_data_frame_dictionary[0]['7 Days to Die']"
   ]
  },
  {
   "cell_type": "code",
   "execution_count": null,
   "metadata": {},
   "outputs": [],
   "source": [
    "import pickle\n",
    "\n",
    "with open('saved_dictionary.pkl', 'wb') as f:\n",
    "    pickle.dump(training_data_frame_dictionary, f)\n",
    "        \n",
    "# with open('saved_dictionary.pkl', 'rb') as f:\n",
    "#     loaded_dict = pickle.load(f)\n"
   ]
  },
  {
   "cell_type": "markdown",
   "metadata": {},
   "source": [
    "### game_info database"
   ]
  },
  {
   "cell_type": "code",
   "execution_count": null,
   "metadata": {},
   "outputs": [],
   "source": [
    "# SQL query\n",
    "sql_query = \"\"\"SELECT * FROM game_info\"\"\"\n",
    "\n",
    "# Column names\n",
    "game_info_col_names = [\"game_id\",\"game_name\",\"game_picture_url\",\"time_logged\"]\n",
    "\n",
    "# Retrieving the data\n",
    "game_info = postgresql_to_dataframe(connect(co_param), sql_query, game_info_col_names)\n",
    "game_info.head()"
   ]
  },
  {
   "cell_type": "code",
   "execution_count": null,
   "metadata": {},
   "outputs": [],
   "source": []
  },
  {
   "cell_type": "markdown",
   "metadata": {},
   "source": [
    "### Random Code"
   ]
  },
  {
   "cell_type": "code",
   "execution_count": null,
   "metadata": {},
   "outputs": [],
   "source": [
    "# stream_data_ENG\n",
    "# ast.literal_eval(stream_data_ENG.tag_ids[0])\n",
    "import re\n",
    "h = re.compile(\"['\\{][0-9A-Za-z\\-]+[,\\}]\")\n",
    "\n",
    "h.match(stream_data_ENG.tag_ids[50])[0][1:-1]"
   ]
  },
  {
   "cell_type": "code",
   "execution_count": null,
   "metadata": {},
   "outputs": [],
   "source": []
  },
  {
   "cell_type": "code",
   "execution_count": null,
   "metadata": {},
   "outputs": [],
   "source": []
  }
 ],
 "metadata": {
  "kernelspec": {
   "display_name": "Python 3.7.9 64-bit",
   "language": "python",
   "name": "python3"
  },
  "language_info": {
   "codemirror_mode": {
    "name": "ipython",
    "version": 3
   },
   "file_extension": ".py",
   "mimetype": "text/x-python",
   "name": "python",
   "nbconvert_exporter": "python",
   "pygments_lexer": "ipython3",
   "version": "3.7.9"
  },
  "vscode": {
   "interpreter": {
    "hash": "3060cf370e9fd446e256e0e075484898b983bef6e1d272fbaceccb953fde7acc"
   }
  }
 },
 "nbformat": 4,
 "nbformat_minor": 2
}
