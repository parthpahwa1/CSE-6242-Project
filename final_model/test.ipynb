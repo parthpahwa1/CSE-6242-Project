{
 "cells": [
  {
   "cell_type": "code",
   "execution_count": 1,
   "id": "cb3e58fd",
   "metadata": {},
   "outputs": [],
   "source": [
    "%load_ext autoreload\n",
    "%autoreload 2\n"
   ]
  },
  {
   "cell_type": "markdown",
   "id": "182c85db",
   "metadata": {},
   "source": [
    "# Model Prediction"
   ]
  },
  {
   "cell_type": "code",
   "execution_count": 2,
   "id": "8aaab41d",
   "metadata": {},
   "outputs": [
    {
     "name": "stderr",
     "output_type": "stream",
     "text": [
      "[nltk_data] Downloading package vader_lexicon to\n",
      "[nltk_data]     C:\\Users\\Hugo\\AppData\\Roaming\\nltk_data...\n",
      "[nltk_data]   Package vader_lexicon is already up-to-date!\n"
     ]
    },
    {
     "name": "stdout",
     "output_type": "stream",
     "text": [
      "Running get data\n",
      "Connecting to the PostgreSQL database...\n",
      "Connection successful\n",
      "Processing data\n",
      "Creating Targets\n"
     ]
    }
   ],
   "source": [
    "# Assumes model & other relavant files is availble in Resources folder\n",
    "from predict import Inference\n",
    "\n",
    "data = Inference().fetch_data('2022-11-29',\"00:00:00\")\n",
    "timesplit = 3"
   ]
  },
  {
   "cell_type": "code",
   "execution_count": 3,
   "id": "f8d3ee2a",
   "metadata": {
    "scrolled": true
   },
   "outputs": [
    {
     "name": "stderr",
     "output_type": "stream",
     "text": [
      "c:\\Users\\Hugo\\AppData\\Local\\Programs\\Python\\Python39\\lib\\site-packages\\sklearn\\base.py:329: UserWarning: Trying to unpickle estimator StandardScaler from version 1.0.2 when using version 1.1.3. This might lead to breaking code or invalid results. Use at your own risk. For more info please refer to:\n",
      "https://scikit-learn.org/stable/model_persistence.html#security-maintainability-limitations\n",
      "  warnings.warn(\n"
     ]
    },
    {
     "data": {
      "text/plain": [
       "{'Escape from Tarkov': 2.1381956549463766e-06,\n",
       " 'Food & Drink': -2.6120448152257074e-06,\n",
       " 'Dota 2': -0.23344980684431915,\n",
       " 'Diablo II: Resurrected': 0,\n",
       " 'Games + Demos': -2.912364707094233e-06,\n",
       " 'Old School RuneScape': -1.1826610648397887e-07,\n",
       " 'Overwatch 2': 0.07362721960182898,\n",
       " 'Fall Guys': -4.712723587153816e-07,\n",
       " 'Rust': 0.12128097388019102,\n",
       " 'Sports': -4.652467858862721e-06,\n",
       " 'Talk Shows & Podcasts': 0.10538378834266846,\n",
       " 'FIFA 23': -2.0090439820513736e-06,\n",
       " 'Slay the Spire': 0,\n",
       " 'VRChat': -0.006540858200766741,\n",
       " 'World of Tanks': -5.998454642795053e-07,\n",
       " 'Albion Online': 2.713216839446236e-07,\n",
       " 'iRacing': -2.1304242738365164e-06,\n",
       " 'Age of Empires II': 0.2775412473486032,\n",
       " 'Project Zomboid': -1.5384239897788998e-07,\n",
       " 'NBA 2K23': 0,\n",
       " 'Grand Theft Auto V': 6.76545094848643e-06,\n",
       " 'Warhammer 40,000: Darktide': 3.4158973465094447e-07,\n",
       " 'StarCraft': -4.660092491304933e-07,\n",
       " 'Final Fantasy XIV Online': 1.2564030817710355e-06,\n",
       " 'Black Desert': 1.835974153826967e-07,\n",
       " 'SMITE': -1.612984676313038e-06,\n",
       " 'Retro': -3.3797571568704296e-07,\n",
       " 'Elden Ring': 5.259917629160604e-07,\n",
       " 'Dead by Daylight': 0.03812563070505388,\n",
       " 'Knight Online': -0.5173028395175702,\n",
       " 'Special Events': 0,\n",
       " 'Phasmophobia': 1.8857801617925149e-06,\n",
       " 'Chess': -1.6403933923667044e-06,\n",
       " 'Destiny 2': 1.7637656838535857e-06,\n",
       " 'Poker': 2.2635101207843892e-06,\n",
       " 'Football Manager 2023': 0.019212134654181937,\n",
       " 'New World': 1.578908726144132e-06,\n",
       " 'Pokémon Scarlet/Violet': 2.9794050966117904e-06,\n",
       " 'Animals, Aquariums, and Zoos': -1.2153597681330965,\n",
       " 'Minecraft': -0.02019608326497211,\n",
       " 'League of Legends: Wild Rift': -2.8111191390774965e-06,\n",
       " 'Music': -2.4704939629127744e-07,\n",
       " 'Dave the Diver': 0,\n",
       " 'Marvel Snap': -2.6856763073631296,\n",
       " 'Teamfight Tactics': 0.020949465134824527,\n",
       " 'League of Legends': 2.8792739145356405e-06,\n",
       " 'Tibia': -0.07543995930195196,\n",
       " 'Just Chatting': 9.624820733656872e-06,\n",
       " 'Tekken 7': -0.004748248504931144,\n",
       " 'Ark: Survival Evolved': 1.1030744293488676e-06,\n",
       " 'Street Fighter V': -2.60947028309914e-06,\n",
       " 'Goddess of Victory: Nikke': 1.6019204107209443e-06,\n",
       " 'Rocket League': -7.188671512954635e-07,\n",
       " 'DayZ': 1.204378578481809e-06,\n",
       " 'PUBG Mobile': -6.569965689568554e-06,\n",
       " 'Roblox': -1.3949594132412757e-06,\n",
       " 'Hearthstone': -1.210730904811456,\n",
       " 'Genshin Impact': 5.729203667872344e-07,\n",
       " 'Star Citizen': 4.671509001820938e-07,\n",
       " 'Mount & Blade II: Bannerlord': -0.5280569550890326,\n",
       " 'The Dark Pictures Anthology: The Devil in Me': 5.645058048016935e-07,\n",
       " 'World of Warcraft': 1.0194622786456928e-05,\n",
       " 'VALORANT': 1.275606487012617e-06,\n",
       " 'Art': 1.1682965199862177e-06,\n",
       " 'Lost Ark': -0.02051505483946936,\n",
       " 'MapleStory': -9.449764824390007e-07,\n",
       " 'Sea of Thieves': 9.718463975817893e-07,\n",
       " 'Pools, Hot Tubs, and Beaches': 1.2853825685496751e-07,\n",
       " 'Call of Duty: Modern Warfare II': 3.1454105262140366e-06,\n",
       " 'Counter-Strike: Global Offensive': 4.037293008417734e-06,\n",
       " 'Red Dead Redemption 2': -1.2463320376077816e-06,\n",
       " 'Fortnite': -0.01331937872542071,\n",
       " 'Magic: The Gathering': -2.846481915209579e-06,\n",
       " 'ASMR': 2.1327816509509163e-06,\n",
       " 'Slots': -5.264674534091879e-07,\n",
       " 'Travel & Outdoors': -0.02642969921757879,\n",
       " 'PUBG: BATTLEGROUNDS': 2.080301139441857e-06,\n",
       " 'War Thunder': -8.737673748260659e-07,\n",
       " 'Heroes of Might and Magic III: The Restoration of Erathia': -1.1100303136465042e-06,\n",
       " 'Call of Duty: Warzone': 0.17634858686490995,\n",
       " 'God of War Ragnarök': 2.4900895332436886e-06,\n",
       " 'Warcraft III': -6.6995895442823055e-06,\n",
       " 'Apex Legends': 3.4532751640057867e-06,\n",
       " 'Virtual Casino': 1.2168838810616187e-07,\n",
       " 'Against the Storm': -3.2853875653424622e-06,\n",
       " 'Hunt: Showdown': 8.885005654775833e-07,\n",
       " 'Lineage 2': -3.363202226546028e-06,\n",
       " 'Path of Exile': -3.791025835009805e-07,\n",
       " 'World of Warships': -1.2110691143167375e-06,\n",
       " 'Crypto': -4.222546254556802e-08,\n",
       " 'Splatoon 3': -2.4400380300811445e-06,\n",
       " \"I'm Only Sleeping\": -1.0420811386847135,\n",
       " 'Trackmania': -1.9130421621211193e-06,\n",
       " 'Dying Light 2: Stay Human': -1.7801582857816527e-06,\n",
       " 'Politics': 4.3227884440693294e-07,\n",
       " 'StarCraft II': -0.04506090229914646,\n",
       " \"Tom Clancy's Rainbow Six Siege\": -1.1277446646206548e-06,\n",
       " 'RimWorld': 1.081614791898386e-06,\n",
       " 'Tower of Fantasy': -9.428941695634064e-07}"
      ]
     },
     "execution_count": 3,
     "metadata": {},
     "output_type": "execute_result"
    }
   ],
   "source": [
    "from MAB import MAB\n",
    "import numpy as np\n",
    "MAB().predict(data[data['time_logged_encoded'] == timesplit].reset_index(drop=True),\n",
    "           timesplit = timesplit,\n",
    "           preference=np.array([1./6.]*6)\n",
    ")"
   ]
  },
  {
   "cell_type": "code",
   "execution_count": 4,
   "id": "8d24000c",
   "metadata": {},
   "outputs": [
    {
     "name": "stdout",
     "output_type": "stream",
     "text": [
      "Running get data\n",
      "Connecting to the PostgreSQL database...\n",
      "Connection successful\n",
      "Processing data\n",
      "Creating Targets\n"
     ]
    },
    {
     "name": "stderr",
     "output_type": "stream",
     "text": [
      "c:\\Users\\Hugo\\AppData\\Local\\Programs\\Python\\Python39\\lib\\site-packages\\sklearn\\base.py:329: UserWarning: Trying to unpickle estimator StandardScaler from version 1.0.2 when using version 1.1.3. This might lead to breaking code or invalid results. Use at your own risk. For more info please refer to:\n",
      "https://scikit-learn.org/stable/model_persistence.html#security-maintainability-limitations\n",
      "  warnings.warn(\n"
     ]
    }
   ],
   "source": [
    "# Alternatively\n",
    "model_output = Inference().run('2022-11-29',\"00:00:00\", np.array([1./6.]*6))"
   ]
  },
  {
   "cell_type": "markdown",
   "id": "bbd73d09",
   "metadata": {},
   "source": [
    "# Model Training"
   ]
  },
  {
   "cell_type": "code",
   "execution_count": 5,
   "id": "1dd8d01b",
   "metadata": {},
   "outputs": [
    {
     "name": "stdout",
     "output_type": "stream",
     "text": [
      "Running get data\n",
      "Connecting to the PostgreSQL database...\n",
      "Connection successful\n",
      "Processing data\n",
      "Creating Targets\n",
      "Creating dictionary pickle\n"
     ]
    }
   ],
   "source": [
    "# Assumes nothing is availble and saves model & other relavant files in Resources folder\n",
    "\n",
    "from MAB import MAB\n",
    "from train import Train\n",
    "\n",
    "train_data = Train().run()"
   ]
  },
  {
   "cell_type": "code",
   "execution_count": 6,
   "id": "df7f459d",
   "metadata": {
    "scrolled": false
   },
   "outputs": [
    {
     "ename": "NameError",
     "evalue": "name 'model' is not defined",
     "output_type": "error",
     "traceback": [
      "\u001b[1;31m---------------------------------------------------------------------------\u001b[0m",
      "\u001b[1;31mNameError\u001b[0m                                 Traceback (most recent call last)",
      "\u001b[1;32mc:\\Users\\Hugo\\Dropbox\\GTx\\Term 4\\Data and Visual Analytics - CSE 6242\\Project\\CSE-6242-Project\\final_model\\test.ipynb Cell 8\u001b[0m in \u001b[0;36m<cell line: 1>\u001b[1;34m()\u001b[0m\n\u001b[1;32m----> <a href='vscode-notebook-cell:/c%3A/Users/Hugo/Dropbox/GTx/Term%204/Data%20and%20Visual%20Analytics%20-%20CSE%206242/Project/CSE-6242-Project/final_model/test.ipynb#X10sZmlsZQ%3D%3D?line=0'>1</a>\u001b[0m result \u001b[39m=\u001b[39m model\u001b[39m.\u001b[39mtrain(final_data)\n",
      "\u001b[1;31mNameError\u001b[0m: name 'model' is not defined"
     ]
    }
   ],
   "source": [
    "result = model.train(final_data)"
   ]
  },
  {
   "cell_type": "code",
   "execution_count": 7,
   "id": "c91a2f39",
   "metadata": {},
   "outputs": [
    {
     "ename": "NameError",
     "evalue": "name 'model' is not defined",
     "output_type": "error",
     "traceback": [
      "\u001b[1;31m---------------------------------------------------------------------------\u001b[0m",
      "\u001b[1;31mNameError\u001b[0m                                 Traceback (most recent call last)",
      "\u001b[1;32mc:\\Users\\Hugo\\Dropbox\\GTx\\Term 4\\Data and Visual Analytics - CSE 6242\\Project\\CSE-6242-Project\\final_model\\test.ipynb Cell 9\u001b[0m in \u001b[0;36m<cell line: 2>\u001b[1;34m()\u001b[0m\n\u001b[0;32m      <a href='vscode-notebook-cell:/c%3A/Users/Hugo/Dropbox/GTx/Term%204/Data%20and%20Visual%20Analytics%20-%20CSE%206242/Project/CSE-6242-Project/final_model/test.ipynb#X11sZmlsZQ%3D%3D?line=0'>1</a>\u001b[0m \u001b[39mimport\u001b[39;00m \u001b[39mpickle\u001b[39;00m\n\u001b[1;32m----> <a href='vscode-notebook-cell:/c%3A/Users/Hugo/Dropbox/GTx/Term%204/Data%20and%20Visual%20Analytics%20-%20CSE%206242/Project/CSE-6242-Project/final_model/test.ipynb#X11sZmlsZQ%3D%3D?line=1'>2</a>\u001b[0m MABmodel \u001b[39m=\u001b[39m pickle\u001b[39m.\u001b[39mload(\u001b[39mopen\u001b[39m(model\u001b[39m.\u001b[39mMODEL_FILE_LOC, \u001b[39m'\u001b[39m\u001b[39mrb\u001b[39m\u001b[39m'\u001b[39m))\n",
      "\u001b[1;31mNameError\u001b[0m: name 'model' is not defined"
     ]
    }
   ],
   "source": [
    "import pickle\n",
    "MABmodel = pickle.load(open(model.MODEL_FILE_LOC, 'rb'))"
   ]
  },
  {
   "cell_type": "code",
   "execution_count": 8,
   "id": "896dd601",
   "metadata": {},
   "outputs": [
    {
     "ename": "NameError",
     "evalue": "name 'MABmodel' is not defined",
     "output_type": "error",
     "traceback": [
      "\u001b[1;31m---------------------------------------------------------------------------\u001b[0m",
      "\u001b[1;31mNameError\u001b[0m                                 Traceback (most recent call last)",
      "\u001b[1;32mc:\\Users\\Hugo\\Dropbox\\GTx\\Term 4\\Data and Visual Analytics - CSE 6242\\Project\\CSE-6242-Project\\final_model\\test.ipynb Cell 10\u001b[0m in \u001b[0;36m<cell line: 1>\u001b[1;34m()\u001b[0m\n\u001b[1;32m----> <a href='vscode-notebook-cell:/c%3A/Users/Hugo/Dropbox/GTx/Term%204/Data%20and%20Visual%20Analytics%20-%20CSE%206242/Project/CSE-6242-Project/final_model/test.ipynb#X12sZmlsZQ%3D%3D?line=0'>1</a>\u001b[0m \u001b[39mfor\u001b[39;00m arr \u001b[39min\u001b[39;00m MABmodel[\u001b[39m0\u001b[39m]:\n\u001b[0;32m      <a href='vscode-notebook-cell:/c%3A/Users/Hugo/Dropbox/GTx/Term%204/Data%20and%20Visual%20Analytics%20-%20CSE%206242/Project/CSE-6242-Project/final_model/test.ipynb#X12sZmlsZQ%3D%3D?line=1'>2</a>\u001b[0m     \u001b[39mprint\u001b[39m(arr)\n",
      "\u001b[1;31mNameError\u001b[0m: name 'MABmodel' is not defined"
     ]
    }
   ],
   "source": [
    "for arr in MABmodel[0]:\n",
    "    print(arr)"
   ]
  },
  {
   "cell_type": "code",
   "execution_count": 9,
   "id": "b8d5164c",
   "metadata": {},
   "outputs": [
    {
     "ename": "NameError",
     "evalue": "name 'result' is not defined",
     "output_type": "error",
     "traceback": [
      "\u001b[1;31m---------------------------------------------------------------------------\u001b[0m",
      "\u001b[1;31mNameError\u001b[0m                                 Traceback (most recent call last)",
      "\u001b[1;32mc:\\Users\\Hugo\\Dropbox\\GTx\\Term 4\\Data and Visual Analytics - CSE 6242\\Project\\CSE-6242-Project\\final_model\\test.ipynb Cell 11\u001b[0m in \u001b[0;36m<cell line: 1>\u001b[1;34m()\u001b[0m\n\u001b[1;32m----> <a href='vscode-notebook-cell:/c%3A/Users/Hugo/Dropbox/GTx/Term%204/Data%20and%20Visual%20Analytics%20-%20CSE%206242/Project/CSE-6242-Project/final_model/test.ipynb#X13sZmlsZQ%3D%3D?line=0'>1</a>\u001b[0m result[\u001b[39m0\u001b[39m][\u001b[39m0.001\u001b[39m][\u001b[39m'\u001b[39m\u001b[39mtheta\u001b[39m\u001b[39m'\u001b[39m][\u001b[39m-\u001b[39m\u001b[39m1\u001b[39m]\n",
      "\u001b[1;31mNameError\u001b[0m: name 'result' is not defined"
     ]
    }
   ],
   "source": [
    "result[0][0.001]['theta'][-1]"
   ]
  },
  {
   "cell_type": "code",
   "execution_count": 10,
   "id": "412e9b96",
   "metadata": {},
   "outputs": [
    {
     "ename": "NameError",
     "evalue": "name 'plt' is not defined",
     "output_type": "error",
     "traceback": [
      "\u001b[1;31m---------------------------------------------------------------------------\u001b[0m",
      "\u001b[1;31mNameError\u001b[0m                                 Traceback (most recent call last)",
      "\u001b[1;32mc:\\Users\\Hugo\\Dropbox\\GTx\\Term 4\\Data and Visual Analytics - CSE 6242\\Project\\CSE-6242-Project\\final_model\\test.ipynb Cell 12\u001b[0m in \u001b[0;36m<cell line: 5>\u001b[1;34m()\u001b[0m\n\u001b[0;32m      <a href='vscode-notebook-cell:/c%3A/Users/Hugo/Dropbox/GTx/Term%204/Data%20and%20Visual%20Analytics%20-%20CSE%206242/Project/CSE-6242-Project/final_model/test.ipynb#X14sZmlsZQ%3D%3D?line=0'>1</a>\u001b[0m \u001b[39mdef\u001b[39;00m \u001b[39mplot_regrets\u001b[39m(results, oracles, time_slot):\n\u001b[0;32m      <a href='vscode-notebook-cell:/c%3A/Users/Hugo/Dropbox/GTx/Term%204/Data%20and%20Visual%20Analytics%20-%20CSE%206242/Project/CSE-6242-Project/final_model/test.ipynb#X14sZmlsZQ%3D%3D?line=1'>2</a>\u001b[0m         [plt\u001b[39m.\u001b[39mplot(make_regret(payoffs\u001b[39m=\u001b[39mx[\u001b[39m'\u001b[39m\u001b[39mr_payoffs\u001b[39m\u001b[39m'\u001b[39m], oracles\u001b[39m=\u001b[39moracles), label\u001b[39m=\u001b[39m\u001b[39m\"\u001b[39m\u001b[39mTime: \u001b[39m\u001b[39m\"\u001b[39m \u001b[39m+\u001b[39m \u001b[39mstr\u001b[39m(time_slot) \u001b[39m+\u001b[39m\n\u001b[0;32m      <a href='vscode-notebook-cell:/c%3A/Users/Hugo/Dropbox/GTx/Term%204/Data%20and%20Visual%20Analytics%20-%20CSE%206242/Project/CSE-6242-Project/final_model/test.ipynb#X14sZmlsZQ%3D%3D?line=2'>3</a>\u001b[0m                   \u001b[39m\"\u001b[39m\u001b[39m alpha: \u001b[39m\u001b[39m\"\u001b[39m \u001b[39m+\u001b[39m \u001b[39mstr\u001b[39m(alpha)) \u001b[39mfor\u001b[39;00m (alpha, x) \u001b[39min\u001b[39;00m results\u001b[39m.\u001b[39mitems()]\n\u001b[1;32m----> <a href='vscode-notebook-cell:/c%3A/Users/Hugo/Dropbox/GTx/Term%204/Data%20and%20Visual%20Analytics%20-%20CSE%206242/Project/CSE-6242-Project/final_model/test.ipynb#X14sZmlsZQ%3D%3D?line=4'>5</a>\u001b[0m plt\u001b[39m.\u001b[39mfigure(figsize\u001b[39m=\u001b[39m(\u001b[39m12.5\u001b[39m, \u001b[39m7.5\u001b[39m))\n\u001b[0;32m      <a href='vscode-notebook-cell:/c%3A/Users/Hugo/Dropbox/GTx/Term%204/Data%20and%20Visual%20Analytics%20-%20CSE%206242/Project/CSE-6242-Project/final_model/test.ipynb#X14sZmlsZQ%3D%3D?line=5'>6</a>\u001b[0m plot_regrets(results_dict[\u001b[39m0\u001b[39m], ORACLE, \u001b[39m0\u001b[39m)\n\u001b[0;32m      <a href='vscode-notebook-cell:/c%3A/Users/Hugo/Dropbox/GTx/Term%204/Data%20and%20Visual%20Analytics%20-%20CSE%206242/Project/CSE-6242-Project/final_model/test.ipynb#X14sZmlsZQ%3D%3D?line=6'>7</a>\u001b[0m \u001b[39m# plot also the random one\u001b[39;00m\n",
      "\u001b[1;31mNameError\u001b[0m: name 'plt' is not defined"
     ]
    }
   ],
   "source": [
    "def plot_regrets(results, oracles, time_slot):\n",
    "        [plt.plot(make_regret(payoffs=x['r_payoffs'], oracles=oracles), label=\"Time: \" + str(time_slot) +\n",
    "                  \" alpha: \" + str(alpha)) for (alpha, x) in results.items()]\n",
    "\n",
    "plt.figure(figsize=(12.5, 7.5))\n",
    "plot_regrets(results_dict[0], ORACLE, 0)\n",
    "# plot also the random one\n",
    "plt.legend()\n",
    "plt.title(\"Regrets for various levels of alpha and also random policy for t=\"+ str(time_split))\n",
    "plt.show()"
   ]
  },
  {
   "cell_type": "code",
   "execution_count": null,
   "id": "efd65181",
   "metadata": {},
   "outputs": [],
   "source": []
  }
 ],
 "metadata": {
  "kernelspec": {
   "display_name": "Python 3.9.12 64-bit",
   "language": "python",
   "name": "python3"
  },
  "language_info": {
   "codemirror_mode": {
    "name": "ipython",
    "version": 3
   },
   "file_extension": ".py",
   "mimetype": "text/x-python",
   "name": "python",
   "nbconvert_exporter": "python",
   "pygments_lexer": "ipython3",
   "version": "3.9.12"
  },
  "vscode": {
   "interpreter": {
    "hash": "61eee5747911ce2d1530bb19b3dc114fdcee62a661e682ca676d7036c332ff47"
   }
  }
 },
 "nbformat": 4,
 "nbformat_minor": 5
}
