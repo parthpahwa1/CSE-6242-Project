{
 "cells": [
  {
   "cell_type": "code",
   "execution_count": 1,
   "id": "cb3e58fd",
   "metadata": {},
   "outputs": [],
   "source": [
    "%load_ext autoreload\n",
    "%autoreload 2\n"
   ]
  },
  {
   "cell_type": "markdown",
   "id": "182c85db",
   "metadata": {},
   "source": [
    "# Model Prediction"
   ]
  },
  {
   "cell_type": "code",
   "execution_count": 2,
   "id": "f8d3ee2a",
   "metadata": {
    "scrolled": true
   },
   "outputs": [
    {
     "name": "stderr",
     "output_type": "stream",
     "text": [
      "[nltk_data] Downloading package vader_lexicon to\n",
      "[nltk_data]     C:\\Users\\Hugo\\AppData\\Roaming\\nltk_data...\n",
      "[nltk_data]   Package vader_lexicon is already up-to-date!\n"
     ]
    },
    {
     "name": "stdout",
     "output_type": "stream",
     "text": [
      "Running get data\n",
      "Connecting to the PostgreSQL database...\n",
      "Connection successful\n",
      "Processing data\n"
     ]
    },
    {
     "ename": "DataError",
     "evalue": "No numeric types to aggregate",
     "output_type": "error",
     "traceback": [
      "\u001b[1;31m---------------------------------------------------------------------------\u001b[0m",
      "\u001b[1;31mDataError\u001b[0m                                 Traceback (most recent call last)",
      "\u001b[1;32m~\\AppData\\Local\\Temp\\ipykernel_17048\\769054223.py\u001b[0m in \u001b[0;36m<module>\u001b[1;34m\u001b[0m\n\u001b[0;32m      4\u001b[0m \u001b[1;32mimport\u001b[0m \u001b[0mnumpy\u001b[0m \u001b[1;32mas\u001b[0m \u001b[0mnp\u001b[0m\u001b[1;33m\u001b[0m\u001b[1;33m\u001b[0m\u001b[0m\n\u001b[0;32m      5\u001b[0m \u001b[1;33m\u001b[0m\u001b[0m\n\u001b[1;32m----> 6\u001b[1;33m \u001b[0mdata\u001b[0m \u001b[1;33m=\u001b[0m \u001b[0mInference\u001b[0m\u001b[1;33m(\u001b[0m\u001b[1;33m)\u001b[0m\u001b[1;33m.\u001b[0m\u001b[0mfetch_data\u001b[0m\u001b[1;33m(\u001b[0m\u001b[1;34m'2022-11-29'\u001b[0m\u001b[1;33m,\u001b[0m\u001b[1;34m\"00:00:00\"\u001b[0m\u001b[1;33m)\u001b[0m\u001b[1;33m\u001b[0m\u001b[1;33m\u001b[0m\u001b[0m\n\u001b[0m\u001b[0;32m      7\u001b[0m \u001b[0mtimesplit\u001b[0m \u001b[1;33m=\u001b[0m \u001b[1;36m3\u001b[0m\u001b[1;33m\u001b[0m\u001b[1;33m\u001b[0m\u001b[0m\n\u001b[0;32m      8\u001b[0m MAB().predict(data[data['time_logged_encoded'] == timesplit].reset_index(drop=True),\n",
      "\u001b[1;32mc:\\Users\\Hugo\\Dropbox\\GTx\\Term 4\\Data and Visual Analytics - CSE 6242\\Project\\CSE-6242-Project\\final_model\\predict.py\u001b[0m in \u001b[0;36mfetch_data\u001b[1;34m(self, date, time_of_day)\u001b[0m\n\u001b[0;32m     53\u001b[0m         \u001b[0mstream_data\u001b[0m \u001b[1;33m=\u001b[0m \u001b[0mDB\u001b[0m\u001b[1;33m(\u001b[0m\u001b[1;33m)\u001b[0m\u001b[1;33m.\u001b[0m\u001b[0mget_stream_data\u001b[0m\u001b[1;33m(\u001b[0m\u001b[0mSQL\u001b[0m\u001b[1;33m)\u001b[0m\u001b[1;33m\u001b[0m\u001b[1;33m\u001b[0m\u001b[0m\n\u001b[0;32m     54\u001b[0m         \u001b[0mprint\u001b[0m\u001b[1;33m(\u001b[0m\u001b[1;34m'Processing data'\u001b[0m\u001b[1;33m)\u001b[0m\u001b[1;33m\u001b[0m\u001b[1;33m\u001b[0m\u001b[0m\n\u001b[1;32m---> 55\u001b[1;33m         \u001b[0mprocessed_data\u001b[0m \u001b[1;33m=\u001b[0m \u001b[0mself\u001b[0m\u001b[1;33m.\u001b[0m\u001b[0mpreprocess_data\u001b[0m\u001b[1;33m(\u001b[0m\u001b[0mstream_data\u001b[0m\u001b[1;33m)\u001b[0m\u001b[1;33m\u001b[0m\u001b[1;33m\u001b[0m\u001b[0m\n\u001b[0m\u001b[0;32m     56\u001b[0m \u001b[1;33m\u001b[0m\u001b[0m\n\u001b[0;32m     57\u001b[0m         \u001b[0mprint\u001b[0m\u001b[1;33m(\u001b[0m\u001b[1;34m'Creating Targets'\u001b[0m\u001b[1;33m)\u001b[0m\u001b[1;33m\u001b[0m\u001b[1;33m\u001b[0m\u001b[0m\n",
      "\u001b[1;32mc:\\Users\\Hugo\\Dropbox\\GTx\\Term 4\\Data and Visual Analytics - CSE 6242\\Project\\CSE-6242-Project\\final_model\\predict.py\u001b[0m in \u001b[0;36mpreprocess_data\u001b[1;34m(self, stream_data)\u001b[0m\n\u001b[0;32m     34\u001b[0m         \u001b[0mstream_data\u001b[0m\u001b[1;33m.\u001b[0m\u001b[0mhead\u001b[0m\u001b[1;33m(\u001b[0m\u001b[1;36m5\u001b[0m\u001b[1;33m)\u001b[0m\u001b[1;33m\u001b[0m\u001b[1;33m\u001b[0m\u001b[0m\n\u001b[0;32m     35\u001b[0m         \u001b[1;31m# Feature_engineering\u001b[0m\u001b[1;33m\u001b[0m\u001b[1;33m\u001b[0m\u001b[1;33m\u001b[0m\u001b[0m\n\u001b[1;32m---> 36\u001b[1;33m         \u001b[0mdf_with_features\u001b[0m \u001b[1;33m=\u001b[0m \u001b[0mself\u001b[0m\u001b[1;33m.\u001b[0m\u001b[0mdata_processsor\u001b[0m\u001b[1;33m.\u001b[0m\u001b[0mperform_feature_engineering\u001b[0m\u001b[1;33m(\u001b[0m\u001b[0mstream_data\u001b[0m\u001b[1;33m)\u001b[0m\u001b[1;33m\u001b[0m\u001b[1;33m\u001b[0m\u001b[0m\n\u001b[0m\u001b[0;32m     37\u001b[0m \u001b[1;33m\u001b[0m\u001b[0m\n\u001b[0;32m     38\u001b[0m         \u001b[1;32mreturn\u001b[0m \u001b[0mdf_with_features\u001b[0m\u001b[1;33m\u001b[0m\u001b[1;33m\u001b[0m\u001b[0m\n",
      "\u001b[1;32mc:\\Users\\Hugo\\Dropbox\\GTx\\Term 4\\Data and Visual Analytics - CSE 6242\\Project\\CSE-6242-Project\\final_model\\process_data.py\u001b[0m in \u001b[0;36mperform_feature_engineering\u001b[1;34m(self, stream_data)\u001b[0m\n\u001b[0;32m    141\u001b[0m \u001b[1;33m\u001b[0m\u001b[0m\n\u001b[0;32m    142\u001b[0m         \u001b[1;31m# Add average matrure rating\u001b[0m\u001b[1;33m\u001b[0m\u001b[1;33m\u001b[0m\u001b[1;33m\u001b[0m\u001b[0m\n\u001b[1;32m--> 143\u001b[1;33m         \u001b[0mtemp_df\u001b[0m \u001b[1;33m=\u001b[0m \u001b[0mstream_data\u001b[0m\u001b[1;33m.\u001b[0m\u001b[0mgroupby\u001b[0m\u001b[1;33m(\u001b[0m\u001b[1;33m[\u001b[0m\u001b[1;34m'time_logged_encoded'\u001b[0m\u001b[1;33m,\u001b[0m \u001b[1;34m'game_name'\u001b[0m\u001b[1;33m,\u001b[0m \u001b[1;34m'log_date'\u001b[0m\u001b[1;33m]\u001b[0m\u001b[1;33m)\u001b[0m\u001b[1;33m[\u001b[0m\u001b[1;33m[\u001b[0m\u001b[1;34m'is_mature'\u001b[0m\u001b[1;33m]\u001b[0m\u001b[1;33m]\u001b[0m\u001b[1;33m.\u001b[0m\u001b[0mmean\u001b[0m\u001b[1;33m(\u001b[0m\u001b[1;33m)\u001b[0m\u001b[1;33m.\u001b[0m\u001b[0mreset_index\u001b[0m\u001b[1;33m(\u001b[0m\u001b[1;33m)\u001b[0m\u001b[1;33m\u001b[0m\u001b[1;33m\u001b[0m\u001b[0m\n\u001b[0m\u001b[0;32m    144\u001b[0m         \u001b[0mdf_with_features\u001b[0m \u001b[1;33m=\u001b[0m \u001b[0mpd\u001b[0m\u001b[1;33m.\u001b[0m\u001b[0mmerge\u001b[0m\u001b[1;33m(\u001b[0m\u001b[0mdf_with_features\u001b[0m\u001b[1;33m,\u001b[0m \u001b[0mtemp_df\u001b[0m\u001b[1;33m)\u001b[0m\u001b[1;33m\u001b[0m\u001b[1;33m\u001b[0m\u001b[0m\n\u001b[0;32m    145\u001b[0m \u001b[1;33m\u001b[0m\u001b[0m\n",
      "\u001b[1;32mc:\\Users\\Hugo\\AppData\\Local\\Programs\\Python\\Python37\\lib\\site-packages\\pandas\\core\\groupby\\groupby.py\u001b[0m in \u001b[0;36mmean\u001b[1;34m(self, numeric_only)\u001b[0m\n\u001b[0;32m   1392\u001b[0m             \u001b[1;34m\"mean\"\u001b[0m\u001b[1;33m,\u001b[0m\u001b[1;33m\u001b[0m\u001b[1;33m\u001b[0m\u001b[0m\n\u001b[0;32m   1393\u001b[0m             \u001b[0malt\u001b[0m\u001b[1;33m=\u001b[0m\u001b[1;32mlambda\u001b[0m \u001b[0mx\u001b[0m\u001b[1;33m,\u001b[0m \u001b[0maxis\u001b[0m\u001b[1;33m:\u001b[0m \u001b[0mSeries\u001b[0m\u001b[1;33m(\u001b[0m\u001b[0mx\u001b[0m\u001b[1;33m)\u001b[0m\u001b[1;33m.\u001b[0m\u001b[0mmean\u001b[0m\u001b[1;33m(\u001b[0m\u001b[0mnumeric_only\u001b[0m\u001b[1;33m=\u001b[0m\u001b[0mnumeric_only\u001b[0m\u001b[1;33m)\u001b[0m\u001b[1;33m,\u001b[0m\u001b[1;33m\u001b[0m\u001b[1;33m\u001b[0m\u001b[0m\n\u001b[1;32m-> 1394\u001b[1;33m             \u001b[0mnumeric_only\u001b[0m\u001b[1;33m=\u001b[0m\u001b[0mnumeric_only\u001b[0m\u001b[1;33m,\u001b[0m\u001b[1;33m\u001b[0m\u001b[1;33m\u001b[0m\u001b[0m\n\u001b[0m\u001b[0;32m   1395\u001b[0m         )\n\u001b[0;32m   1396\u001b[0m \u001b[1;33m\u001b[0m\u001b[0m\n",
      "\u001b[1;32mc:\\Users\\Hugo\\AppData\\Local\\Programs\\Python\\Python37\\lib\\site-packages\\pandas\\core\\groupby\\generic.py\u001b[0m in \u001b[0;36m_cython_agg_general\u001b[1;34m(self, how, alt, numeric_only, min_count)\u001b[0m\n\u001b[0;32m   1014\u001b[0m     ) -> DataFrame:\n\u001b[0;32m   1015\u001b[0m         agg_blocks, agg_items = self._cython_agg_blocks(\n\u001b[1;32m-> 1016\u001b[1;33m             \u001b[0mhow\u001b[0m\u001b[1;33m,\u001b[0m \u001b[0malt\u001b[0m\u001b[1;33m=\u001b[0m\u001b[0malt\u001b[0m\u001b[1;33m,\u001b[0m \u001b[0mnumeric_only\u001b[0m\u001b[1;33m=\u001b[0m\u001b[0mnumeric_only\u001b[0m\u001b[1;33m,\u001b[0m \u001b[0mmin_count\u001b[0m\u001b[1;33m=\u001b[0m\u001b[0mmin_count\u001b[0m\u001b[1;33m\u001b[0m\u001b[1;33m\u001b[0m\u001b[0m\n\u001b[0m\u001b[0;32m   1017\u001b[0m         )\n\u001b[0;32m   1018\u001b[0m         \u001b[1;32mreturn\u001b[0m \u001b[0mself\u001b[0m\u001b[1;33m.\u001b[0m\u001b[0m_wrap_agged_blocks\u001b[0m\u001b[1;33m(\u001b[0m\u001b[0magg_blocks\u001b[0m\u001b[1;33m,\u001b[0m \u001b[0mitems\u001b[0m\u001b[1;33m=\u001b[0m\u001b[0magg_items\u001b[0m\u001b[1;33m)\u001b[0m\u001b[1;33m\u001b[0m\u001b[1;33m\u001b[0m\u001b[0m\n",
      "\u001b[1;32mc:\\Users\\Hugo\\AppData\\Local\\Programs\\Python\\Python37\\lib\\site-packages\\pandas\\core\\groupby\\generic.py\u001b[0m in \u001b[0;36m_cython_agg_blocks\u001b[1;34m(self, how, alt, numeric_only, min_count)\u001b[0m\n\u001b[0;32m   1122\u001b[0m \u001b[1;33m\u001b[0m\u001b[0m\n\u001b[0;32m   1123\u001b[0m         \u001b[1;32mif\u001b[0m \u001b[1;32mnot\u001b[0m \u001b[1;33m(\u001b[0m\u001b[0magg_blocks\u001b[0m \u001b[1;32mor\u001b[0m \u001b[0msplit_frames\u001b[0m\u001b[1;33m)\u001b[0m\u001b[1;33m:\u001b[0m\u001b[1;33m\u001b[0m\u001b[1;33m\u001b[0m\u001b[0m\n\u001b[1;32m-> 1124\u001b[1;33m             \u001b[1;32mraise\u001b[0m \u001b[0mDataError\u001b[0m\u001b[1;33m(\u001b[0m\u001b[1;34m\"No numeric types to aggregate\"\u001b[0m\u001b[1;33m)\u001b[0m\u001b[1;33m\u001b[0m\u001b[1;33m\u001b[0m\u001b[0m\n\u001b[0m\u001b[0;32m   1125\u001b[0m \u001b[1;33m\u001b[0m\u001b[0m\n\u001b[0;32m   1126\u001b[0m         \u001b[1;32mif\u001b[0m \u001b[0msplit_items\u001b[0m\u001b[1;33m:\u001b[0m\u001b[1;33m\u001b[0m\u001b[1;33m\u001b[0m\u001b[0m\n",
      "\u001b[1;31mDataError\u001b[0m: No numeric types to aggregate"
     ]
    }
   ],
   "source": [
    "# Assumes model & other relavant files is availble in Resources folder\n",
    "from predict import Inference\n",
    "from MAB import MAB\n",
    "import numpy as np\n",
    "\n",
    "data = Inference().fetch_data('2022-11-29',\"00:00:00\")\n",
    "timesplit = 3\n",
    "MAB().predict(data[data['time_logged_encoded'] == timesplit].reset_index(drop=True),\n",
    "           timesplit = timesplit,\n",
    "           preference=np.array([1./6.]*6)\n",
    ")"
   ]
  },
  {
   "cell_type": "code",
   "execution_count": null,
   "id": "89ba7934",
   "metadata": {},
   "outputs": [],
   "source": [
    "from MAB import MAB\n",
    "import numpy as np\n",
    "\n",
    "MAB().predict(data[data['time_logged_encoded'] == timesplit].reset_index(drop=True),\n",
    "           timesplit = timesplit,\n",
    "           preference=np.array([1./6.]*6)\n",
    ")"
   ]
  },
  {
   "cell_type": "code",
   "execution_count": null,
   "id": "8d24000c",
   "metadata": {},
   "outputs": [],
   "source": [
    "# Alternatively\n",
    "model_output = Inference().run('2022-11-29',\"00:00:00\", np.array([1./6.]*6))"
   ]
  },
  {
   "cell_type": "markdown",
   "id": "bbd73d09",
   "metadata": {},
   "source": [
    "# Model Training"
   ]
  },
  {
   "cell_type": "code",
   "execution_count": null,
   "id": "1dd8d01b",
   "metadata": {},
   "outputs": [],
   "source": [
    "# Assumes nothing is availble and saves model & other relavant files in Resources folder\n",
    "\n",
    "from MAB import MAB\n",
    "from train import Train\n",
    "\n",
    "train_data = Train().run()"
   ]
  },
  {
   "cell_type": "code",
   "execution_count": null,
   "id": "df7f459d",
   "metadata": {
    "scrolled": false
   },
   "outputs": [],
   "source": [
    "result = model.train(final_data)"
   ]
  },
  {
   "cell_type": "code",
   "execution_count": null,
   "id": "c91a2f39",
   "metadata": {},
   "outputs": [],
   "source": [
    "import pickle\n",
    "MABmodel = pickle.load(open(model.MODEL_FILE_LOC, 'rb'))"
   ]
  },
  {
   "cell_type": "code",
   "execution_count": null,
   "id": "896dd601",
   "metadata": {},
   "outputs": [],
   "source": [
    "for arr in MABmodel[0]:\n",
    "    print(arr)"
   ]
  },
  {
   "cell_type": "code",
   "execution_count": null,
   "id": "b8d5164c",
   "metadata": {},
   "outputs": [],
   "source": [
    "result[0][0.001]['theta'][-1]"
   ]
  },
  {
   "cell_type": "code",
   "execution_count": null,
   "id": "412e9b96",
   "metadata": {},
   "outputs": [],
   "source": [
    "def plot_regrets(results, oracles, time_slot):\n",
    "        [plt.plot(make_regret(payoffs=x['r_payoffs'], oracles=oracles), label=\"Time: \" + str(time_slot) +\n",
    "                  \" alpha: \" + str(alpha)) for (alpha, x) in results.items()]\n",
    "\n",
    "plt.figure(figsize=(12.5, 7.5))\n",
    "plot_regrets(results_dict[0], ORACLE, 0)\n",
    "# plot also the random one\n",
    "plt.legend()\n",
    "plt.title(\"Regrets for various levels of alpha and also random policy for t=\"+ str(time_split))\n",
    "plt.show()"
   ]
  }
 ],
 "metadata": {
  "kernelspec": {
   "display_name": "Python 3.7.9 64-bit",
   "language": "python",
   "name": "python3"
  },
  "language_info": {
   "codemirror_mode": {
    "name": "ipython",
    "version": 3
   },
   "file_extension": ".py",
   "mimetype": "text/x-python",
   "name": "python",
   "nbconvert_exporter": "python",
   "pygments_lexer": "ipython3",
   "version": "3.7.9"
  },
  "vscode": {
   "interpreter": {
    "hash": "3060cf370e9fd446e256e0e075484898b983bef6e1d272fbaceccb953fde7acc"
   }
  }
 },
 "nbformat": 4,
 "nbformat_minor": 5
}
